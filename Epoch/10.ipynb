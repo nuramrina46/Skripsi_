{
  "cells": [
    {
      "cell_type": "markdown",
      "metadata": {
        "id": "view-in-github",
        "colab_type": "text"
      },
      "source": [
        "<a href=\"https://colab.research.google.com/github/nuramrina46/Skripsi-VGG-16/blob/main/Epoch/10.ipynb\" target=\"_parent\"><img src=\"https://colab.research.google.com/assets/colab-badge.svg\" alt=\"Open In Colab\"/></a>"
      ]
    },
    {
      "cell_type": "code",
      "execution_count": 1,
      "metadata": {
        "colab": {
          "base_uri": "https://localhost:8080/"
        },
        "id": "2_RYo7hrXaC5",
        "outputId": "d3d09821-d1ed-41d2-ec44-55d15043e990"
      },
      "outputs": [
        {
          "output_type": "stream",
          "name": "stdout",
          "text": [
            "Mounted at /content/drive\n"
          ]
        }
      ],
      "source": [
        "from google.colab import drive\n",
        "drive.mount('/content/drive')"
      ]
    },
    {
      "cell_type": "code",
      "execution_count": 2,
      "metadata": {
        "colab": {
          "base_uri": "https://localhost:8080/"
        },
        "id": "G4aisxOFX3KH",
        "outputId": "090517c7-ec16-4bca-a1c4-023753d83546"
      },
      "outputs": [
        {
          "output_type": "stream",
          "name": "stdout",
          "text": [
            "/content/drive/MyDrive/Colab Notebooks\n"
          ]
        }
      ],
      "source": [
        "cd /content/drive/MyDrive/Colab Notebooks"
      ]
    },
    {
      "cell_type": "code",
      "execution_count": 3,
      "metadata": {
        "colab": {
          "base_uri": "https://localhost:8080/"
        },
        "id": "e_oGUrADX8O_",
        "outputId": "cccd9d4c-95ac-4d28-d848-6f3fcb5dea21"
      },
      "outputs": [
        {
          "output_type": "stream",
          "name": "stdout",
          "text": [
            " \u001b[0m\u001b[01;34mPNEUMONIA\u001b[0m/                        pneumonia_vgg_19.ipynb\n",
            " \u001b[01;34mPNEUMONIA32\u001b[0m/                     'Salinan dari pneumonia_VGG_16_fiX (3).ipynb'\n",
            "'pneumonia(clahe).ipynb'           Untitled0.ipynb\n",
            "'pneumonia_VGG_16_fiX (3).ipynb'   Untitled1.ipynb\n",
            "'pneumonia_vgg_19 (2).ipynb'\n"
          ]
        }
      ],
      "source": [
        "ls"
      ]
    },
    {
      "cell_type": "code",
      "execution_count": 4,
      "metadata": {
        "id": "t95OxlI7X_OF"
      },
      "outputs": [],
      "source": [
        "from keras.models import Model\n",
        "from keras.models import load_model\n",
        "from keras.models import Sequential\n",
        "from keras.layers.convolutional import Convolution2D\n",
        "from keras.layers.convolutional import MaxPooling2D\n",
        "from keras.layers.convolutional import ZeroPadding2D\n",
        "from keras.layers.core import Activation\n",
        "from keras.layers.core import Flatten\n",
        "from keras.layers.core import Dense\n",
        "from keras.layers.core import Dropout\n",
        "from keras.layers import BatchNormalization\n",
        "from keras import regularizers\n",
        "from tensorflow.keras.optimizers import RMSprop, Adam, SGD\n",
        "from sklearn.preprocessing import LabelBinarizer\n",
        "from sklearn.model_selection import train_test_split\n",
        "from sklearn.metrics import classification_report\n",
        "from PIL import Image\n",
        "from matplotlib import pyplot as plt\n",
        "from imutils import paths\n",
        "import numpy as np\n",
        "import os"
      ]
    },
    {
      "cell_type": "code",
      "execution_count": 5,
      "metadata": {
        "colab": {
          "base_uri": "https://localhost:8080/"
        },
        "id": "jvn693i-YDZ8",
        "outputId": "daa3f871-39e9-4788-a83b-b5981e125df5"
      },
      "outputs": [
        {
          "output_type": "stream",
          "name": "stdout",
          "text": [
            "[INFO] loading images...\n"
          ]
        }
      ],
      "source": [
        "print(\"[INFO] loading images...\")\n",
        "imagePaths = paths.list_images(\"PNEUMONIA\")\n",
        "data = []\n",
        "labels = []"
      ]
    },
    {
      "cell_type": "code",
      "execution_count": 6,
      "metadata": {
        "id": "3XLuWAZsYLfK"
      },
      "outputs": [],
      "source": [
        "for imagePaths in imagePaths:\n",
        "    a = Image.open(imagePaths)\n",
        "    image = np.array(a.resize((64,64))) / 255.0\n",
        "    data.append(image)\n",
        "    \n",
        "    label = imagePaths.split(os.path.sep) [-2]\n",
        "    labels.append(label)"
      ]
    },
    {
      "cell_type": "code",
      "execution_count": 7,
      "metadata": {
        "colab": {
          "base_uri": "https://localhost:8080/"
        },
        "id": "WEn6-tEdG4Bs",
        "outputId": "f1eb249c-01be-4a53-ee3d-c647f5fd67be"
      },
      "outputs": [
        {
          "output_type": "stream",
          "name": "stdout",
          "text": [
            "(3166, 64, 64, 1)\n"
          ]
        }
      ],
      "source": [
        "temp = np.array(data)\n",
        "temp = np.expand_dims(temp, axis=3)\n",
        "print(temp.shape)"
      ]
    },
    {
      "cell_type": "code",
      "execution_count": 8,
      "metadata": {
        "colab": {
          "base_uri": "https://localhost:8080/"
        },
        "id": "gnjyPDi_Yyrn",
        "outputId": "0769b04a-384f-4fb1-888c-aa28473ee480"
      },
      "outputs": [
        {
          "output_type": "stream",
          "name": "stdout",
          "text": [
            "[[0 1]\n",
            " [0 1]\n",
            " [0 1]\n",
            " ...\n",
            " [1 0]\n",
            " [1 0]\n",
            " [1 0]]\n"
          ]
        }
      ],
      "source": [
        "from sklearn.preprocessing import LabelBinarizer\n",
        "import numpy as np\n",
        "\n",
        "class MyLabelBinarizer(LabelBinarizer):\n",
        "    def transform(self, label):\n",
        "      nilaiy = super().transform(label)\n",
        "      if self.y_type_== 'binary':\n",
        "        return np.hstack((nilaiy, 1-nilaiy))\n",
        "      else:\n",
        "        return nilaiy\n",
        "    def inverse_transform(self, nilaiy, threshold=None):\n",
        "      if self.y_type_ == 'binary':\n",
        "          return super().inverse_transform(nilaiy[:, 0], threshold)\n",
        "      else:\n",
        "          return super().inverse_transform(nilaiy, threshold)\n",
        "\n",
        "      \n",
        "\n",
        "lb = MyLabelBinarizer()\n",
        "labels = lb.fit_transform(labels)\n",
        "print(labels)"
      ]
    },
    {
      "cell_type": "code",
      "execution_count": 9,
      "metadata": {
        "colab": {
          "base_uri": "https://localhost:8080/"
        },
        "id": "0V3CnlQtY1g2",
        "outputId": "f2ff2954-b9e9-4474-ea71-466bfd0ee11c"
      },
      "outputs": [
        {
          "output_type": "stream",
          "name": "stdout",
          "text": [
            "(2532, 64, 64)\n",
            "(634, 64, 64)\n"
          ]
        }
      ],
      "source": [
        "(trainX, testX, trainY, testY) = train_test_split(np.array(data),np.array(labels), test_size=0.20)\n",
        "print(trainX.shape)\n",
        "print(testX.shape)"
      ]
    },
    {
      "cell_type": "code",
      "execution_count": 10,
      "metadata": {
        "id": "WpeYjXzUZCZP"
      },
      "outputs": [],
      "source": [
        "def vgg16(num_classes):\n",
        "\n",
        "    vgg16 = Sequential()\n",
        "\n",
        "    vgg16.add(Convolution2D(input_shape=(64,64,1),filters=64,kernel_size=(3,3),padding=\"same\"))\n",
        "    vgg16.add(Activation('relu'))\n",
        "    vgg16.add(BatchNormalization())\n",
        "    #layer1 32*32*64\n",
        "    vgg16.add(Convolution2D(filters=64,kernel_size=(3,3),padding=\"same\"))\n",
        "    vgg16.add(Activation('relu'))\n",
        "    vgg16.add(MaxPooling2D(pool_size=(2, 2),strides=(2,2)))\n",
        "    vgg16.add(BatchNormalization())\n",
        "    #layer2 16*16*64\n",
        "    vgg16.add(Convolution2D(filters=128, kernel_size=(3,3), padding=\"same\"))\n",
        "    vgg16.add(Activation('relu'))\n",
        "    vgg16.add(BatchNormalization())\n",
        "    #layer3 16*16*128\n",
        "    vgg16.add(Convolution2D(filters=128, kernel_size=(3,3), padding=\"same\",))\n",
        "    vgg16.add(Activation('relu'))\n",
        "    vgg16.add(MaxPooling2D(pool_size=(2,2),strides=(2,2)))\n",
        "    vgg16.add(BatchNormalization())\n",
        "    #layer4 8*8*128\n",
        "    vgg16.add(Convolution2D(filters=256, kernel_size=(3,3), padding=\"same\"))\n",
        "    vgg16.add(Activation('relu'))\n",
        "    vgg16.add(BatchNormalization())\n",
        "    #layer5 8*8*256\n",
        "    vgg16.add(Convolution2D(filters=256, kernel_size=(3,3), padding=\"same\"))\n",
        "    vgg16.add(Activation('relu'))\n",
        "    vgg16.add(BatchNormalization())\n",
        "    #layer6 8*8*256\n",
        "    vgg16.add(Convolution2D(filters=256, kernel_size=(3,3), padding=\"same\"))\n",
        "    vgg16.add(Activation('relu'))\n",
        "    vgg16.add(MaxPooling2D(pool_size=(2,2),strides=(2,2)))\n",
        "    vgg16.add(BatchNormalization())\n",
        "    #layer7 4*4*256\n",
        "    vgg16.add(Convolution2D(filters=512, kernel_size=(3,3), padding=\"same\"))\n",
        "    vgg16.add(Activation('relu'))\n",
        "    vgg16.add(BatchNormalization())\n",
        "    #layer8 4*4*512\n",
        "    vgg16.add(Convolution2D(filters=512, kernel_size=(3,3), padding=\"same\"))\n",
        "    vgg16.add(Activation('relu'))\n",
        "    vgg16.add(BatchNormalization())\n",
        "    #layer9 4*4*512\n",
        "    vgg16.add(Convolution2D(filters=512, kernel_size=(3,3), padding=\"same\"))\n",
        "    vgg16.add(Activation('relu'))\n",
        "    vgg16.add(MaxPooling2D(pool_size=(2,2),strides=(2,2)))\n",
        "    vgg16.add(BatchNormalization())\n",
        "    #layer10 2*2*512\n",
        "    vgg16.add(Convolution2D(filters=512, kernel_size=(3,3), padding=\"same\"))\n",
        "    vgg16.add(Activation('relu'))\n",
        "    vgg16.add(BatchNormalization())\n",
        "    #layer11 2*2*512\n",
        "    vgg16.add(Convolution2D(filters=512, kernel_size=(3,3), padding=\"same\"))  \n",
        "    vgg16.add(Activation('relu')) \n",
        "    vgg16.add(BatchNormalization())       \n",
        "    #layer12 2*2*512\n",
        "    vgg16.add(Convolution2D(filters=512, kernel_size=(3,3), padding=\"same\"))\n",
        "    vgg16.add(Activation('relu'))\n",
        "    vgg16.add(MaxPooling2D(pool_size=(2,2),strides=(2,2)))\n",
        "    vgg16.add(BatchNormalization())\n",
        "    #layer13 1*1*512\n",
        "    vgg16.add(Flatten())\n",
        "    vgg16.add(Dense(units=4096))\n",
        "    vgg16.add(Activation('relu')) \n",
        "    vgg16.add(BatchNormalization())\n",
        "    vgg16.add(Dropout(0.5))\n",
        "    #layer14 4096\n",
        "    vgg16.add(Dense(units=4096))\n",
        "    vgg16.add(Activation('relu')) \n",
        "    vgg16.add(BatchNormalization())\n",
        "    vgg16.add(Dropout(0.5))\n",
        "    #layer16 4096\n",
        "    vgg16.add(Dense(units=1000))\n",
        "    vgg16.add(Activation('relu'))\n",
        "    vgg16.add(BatchNormalization())\n",
        "    vgg16.add(Dropout(0.5)) \n",
        "    #layer16 1000\n",
        "    vgg16.add(Dense(2, activation=\"softmax\"))\n",
        "\n",
        "    return vgg16"
      ]
    },
    {
      "cell_type": "code",
      "execution_count": 11,
      "metadata": {
        "colab": {
          "base_uri": "https://localhost:8080/"
        },
        "id": "rlT3OhVuZLUs",
        "outputId": "eeed64cf-af64-45b6-cb8f-94a1c7beb175"
      },
      "outputs": [
        {
          "output_type": "stream",
          "name": "stdout",
          "text": [
            "Model: \"sequential\"\n",
            "_________________________________________________________________\n",
            " Layer (type)                Output Shape              Param #   \n",
            "=================================================================\n",
            " conv2d (Conv2D)             (None, 64, 64, 64)        640       \n",
            "                                                                 \n",
            " activation (Activation)     (None, 64, 64, 64)        0         \n",
            "                                                                 \n",
            " batch_normalization (BatchN  (None, 64, 64, 64)       256       \n",
            " ormalization)                                                   \n",
            "                                                                 \n",
            " conv2d_1 (Conv2D)           (None, 64, 64, 64)        36928     \n",
            "                                                                 \n",
            " activation_1 (Activation)   (None, 64, 64, 64)        0         \n",
            "                                                                 \n",
            " max_pooling2d (MaxPooling2D  (None, 32, 32, 64)       0         \n",
            " )                                                               \n",
            "                                                                 \n",
            " batch_normalization_1 (Batc  (None, 32, 32, 64)       256       \n",
            " hNormalization)                                                 \n",
            "                                                                 \n",
            " conv2d_2 (Conv2D)           (None, 32, 32, 128)       73856     \n",
            "                                                                 \n",
            " activation_2 (Activation)   (None, 32, 32, 128)       0         \n",
            "                                                                 \n",
            " batch_normalization_2 (Batc  (None, 32, 32, 128)      512       \n",
            " hNormalization)                                                 \n",
            "                                                                 \n",
            " conv2d_3 (Conv2D)           (None, 32, 32, 128)       147584    \n",
            "                                                                 \n",
            " activation_3 (Activation)   (None, 32, 32, 128)       0         \n",
            "                                                                 \n",
            " max_pooling2d_1 (MaxPooling  (None, 16, 16, 128)      0         \n",
            " 2D)                                                             \n",
            "                                                                 \n",
            " batch_normalization_3 (Batc  (None, 16, 16, 128)      512       \n",
            " hNormalization)                                                 \n",
            "                                                                 \n",
            " conv2d_4 (Conv2D)           (None, 16, 16, 256)       295168    \n",
            "                                                                 \n",
            " activation_4 (Activation)   (None, 16, 16, 256)       0         \n",
            "                                                                 \n",
            " batch_normalization_4 (Batc  (None, 16, 16, 256)      1024      \n",
            " hNormalization)                                                 \n",
            "                                                                 \n",
            " conv2d_5 (Conv2D)           (None, 16, 16, 256)       590080    \n",
            "                                                                 \n",
            " activation_5 (Activation)   (None, 16, 16, 256)       0         \n",
            "                                                                 \n",
            " batch_normalization_5 (Batc  (None, 16, 16, 256)      1024      \n",
            " hNormalization)                                                 \n",
            "                                                                 \n",
            " conv2d_6 (Conv2D)           (None, 16, 16, 256)       590080    \n",
            "                                                                 \n",
            " activation_6 (Activation)   (None, 16, 16, 256)       0         \n",
            "                                                                 \n",
            " max_pooling2d_2 (MaxPooling  (None, 8, 8, 256)        0         \n",
            " 2D)                                                             \n",
            "                                                                 \n",
            " batch_normalization_6 (Batc  (None, 8, 8, 256)        1024      \n",
            " hNormalization)                                                 \n",
            "                                                                 \n",
            " conv2d_7 (Conv2D)           (None, 8, 8, 512)         1180160   \n",
            "                                                                 \n",
            " activation_7 (Activation)   (None, 8, 8, 512)         0         \n",
            "                                                                 \n",
            " batch_normalization_7 (Batc  (None, 8, 8, 512)        2048      \n",
            " hNormalization)                                                 \n",
            "                                                                 \n",
            " conv2d_8 (Conv2D)           (None, 8, 8, 512)         2359808   \n",
            "                                                                 \n",
            " activation_8 (Activation)   (None, 8, 8, 512)         0         \n",
            "                                                                 \n",
            " batch_normalization_8 (Batc  (None, 8, 8, 512)        2048      \n",
            " hNormalization)                                                 \n",
            "                                                                 \n",
            " conv2d_9 (Conv2D)           (None, 8, 8, 512)         2359808   \n",
            "                                                                 \n",
            " activation_9 (Activation)   (None, 8, 8, 512)         0         \n",
            "                                                                 \n",
            " max_pooling2d_3 (MaxPooling  (None, 4, 4, 512)        0         \n",
            " 2D)                                                             \n",
            "                                                                 \n",
            " batch_normalization_9 (Batc  (None, 4, 4, 512)        2048      \n",
            " hNormalization)                                                 \n",
            "                                                                 \n",
            " conv2d_10 (Conv2D)          (None, 4, 4, 512)         2359808   \n",
            "                                                                 \n",
            " activation_10 (Activation)  (None, 4, 4, 512)         0         \n",
            "                                                                 \n",
            " batch_normalization_10 (Bat  (None, 4, 4, 512)        2048      \n",
            " chNormalization)                                                \n",
            "                                                                 \n",
            " conv2d_11 (Conv2D)          (None, 4, 4, 512)         2359808   \n",
            "                                                                 \n",
            " activation_11 (Activation)  (None, 4, 4, 512)         0         \n",
            "                                                                 \n",
            " batch_normalization_11 (Bat  (None, 4, 4, 512)        2048      \n",
            " chNormalization)                                                \n",
            "                                                                 \n",
            " conv2d_12 (Conv2D)          (None, 4, 4, 512)         2359808   \n",
            "                                                                 \n",
            " activation_12 (Activation)  (None, 4, 4, 512)         0         \n",
            "                                                                 \n",
            " max_pooling2d_4 (MaxPooling  (None, 2, 2, 512)        0         \n",
            " 2D)                                                             \n",
            "                                                                 \n",
            " batch_normalization_12 (Bat  (None, 2, 2, 512)        2048      \n",
            " chNormalization)                                                \n",
            "                                                                 \n",
            " flatten (Flatten)           (None, 2048)              0         \n",
            "                                                                 \n",
            " dense (Dense)               (None, 4096)              8392704   \n",
            "                                                                 \n",
            " activation_13 (Activation)  (None, 4096)              0         \n",
            "                                                                 \n",
            " batch_normalization_13 (Bat  (None, 4096)             16384     \n",
            " chNormalization)                                                \n",
            "                                                                 \n",
            " dropout (Dropout)           (None, 4096)              0         \n",
            "                                                                 \n",
            " dense_1 (Dense)             (None, 4096)              16781312  \n",
            "                                                                 \n",
            " activation_14 (Activation)  (None, 4096)              0         \n",
            "                                                                 \n",
            " batch_normalization_14 (Bat  (None, 4096)             16384     \n",
            " chNormalization)                                                \n",
            "                                                                 \n",
            " dropout_1 (Dropout)         (None, 4096)              0         \n",
            "                                                                 \n",
            " dense_2 (Dense)             (None, 1000)              4097000   \n",
            "                                                                 \n",
            " activation_15 (Activation)  (None, 1000)              0         \n",
            "                                                                 \n",
            " batch_normalization_15 (Bat  (None, 1000)             4000      \n",
            " chNormalization)                                                \n",
            "                                                                 \n",
            " dropout_2 (Dropout)         (None, 1000)              0         \n",
            "                                                                 \n",
            " dense_3 (Dense)             (None, 2)                 2002      \n",
            "                                                                 \n",
            "=================================================================\n",
            "Total params: 44,040,218\n",
            "Trainable params: 44,013,386\n",
            "Non-trainable params: 26,832\n",
            "_________________________________________________________________\n"
          ]
        }
      ],
      "source": [
        "num_classes=2\n",
        "vgg16=vgg16(num_classes)\n",
        "vgg16.summary()"
      ]
    },
    {
      "cell_type": "code",
      "execution_count": 12,
      "metadata": {
        "colab": {
          "base_uri": "https://localhost:8080/"
        },
        "id": "eZ0TePWVZTx4",
        "outputId": "6f0a8b07-a257-448e-f734-a18f554a82f8"
      },
      "outputs": [
        {
          "output_type": "stream",
          "name": "stdout",
          "text": [
            "Model: \"sequential\"\n",
            "_________________________________________________________________\n",
            " Layer (type)                Output Shape              Param #   \n",
            "=================================================================\n",
            " conv2d (Conv2D)             (None, 64, 64, 64)        640       \n",
            "                                                                 \n",
            " activation (Activation)     (None, 64, 64, 64)        0         \n",
            "                                                                 \n",
            " batch_normalization (BatchN  (None, 64, 64, 64)       256       \n",
            " ormalization)                                                   \n",
            "                                                                 \n",
            " conv2d_1 (Conv2D)           (None, 64, 64, 64)        36928     \n",
            "                                                                 \n",
            " activation_1 (Activation)   (None, 64, 64, 64)        0         \n",
            "                                                                 \n",
            " max_pooling2d (MaxPooling2D  (None, 32, 32, 64)       0         \n",
            " )                                                               \n",
            "                                                                 \n",
            " batch_normalization_1 (Batc  (None, 32, 32, 64)       256       \n",
            " hNormalization)                                                 \n",
            "                                                                 \n",
            " conv2d_2 (Conv2D)           (None, 32, 32, 128)       73856     \n",
            "                                                                 \n",
            " activation_2 (Activation)   (None, 32, 32, 128)       0         \n",
            "                                                                 \n",
            " batch_normalization_2 (Batc  (None, 32, 32, 128)      512       \n",
            " hNormalization)                                                 \n",
            "                                                                 \n",
            " conv2d_3 (Conv2D)           (None, 32, 32, 128)       147584    \n",
            "                                                                 \n",
            " activation_3 (Activation)   (None, 32, 32, 128)       0         \n",
            "                                                                 \n",
            " max_pooling2d_1 (MaxPooling  (None, 16, 16, 128)      0         \n",
            " 2D)                                                             \n",
            "                                                                 \n",
            " batch_normalization_3 (Batc  (None, 16, 16, 128)      512       \n",
            " hNormalization)                                                 \n",
            "                                                                 \n",
            " conv2d_4 (Conv2D)           (None, 16, 16, 256)       295168    \n",
            "                                                                 \n",
            " activation_4 (Activation)   (None, 16, 16, 256)       0         \n",
            "                                                                 \n",
            " batch_normalization_4 (Batc  (None, 16, 16, 256)      1024      \n",
            " hNormalization)                                                 \n",
            "                                                                 \n",
            " conv2d_5 (Conv2D)           (None, 16, 16, 256)       590080    \n",
            "                                                                 \n",
            " activation_5 (Activation)   (None, 16, 16, 256)       0         \n",
            "                                                                 \n",
            " batch_normalization_5 (Batc  (None, 16, 16, 256)      1024      \n",
            " hNormalization)                                                 \n",
            "                                                                 \n",
            " conv2d_6 (Conv2D)           (None, 16, 16, 256)       590080    \n",
            "                                                                 \n",
            " activation_6 (Activation)   (None, 16, 16, 256)       0         \n",
            "                                                                 \n",
            " max_pooling2d_2 (MaxPooling  (None, 8, 8, 256)        0         \n",
            " 2D)                                                             \n",
            "                                                                 \n",
            " batch_normalization_6 (Batc  (None, 8, 8, 256)        1024      \n",
            " hNormalization)                                                 \n",
            "                                                                 \n",
            " conv2d_7 (Conv2D)           (None, 8, 8, 512)         1180160   \n",
            "                                                                 \n",
            " activation_7 (Activation)   (None, 8, 8, 512)         0         \n",
            "                                                                 \n",
            " batch_normalization_7 (Batc  (None, 8, 8, 512)        2048      \n",
            " hNormalization)                                                 \n",
            "                                                                 \n",
            " conv2d_8 (Conv2D)           (None, 8, 8, 512)         2359808   \n",
            "                                                                 \n",
            " activation_8 (Activation)   (None, 8, 8, 512)         0         \n",
            "                                                                 \n",
            " batch_normalization_8 (Batc  (None, 8, 8, 512)        2048      \n",
            " hNormalization)                                                 \n",
            "                                                                 \n",
            " conv2d_9 (Conv2D)           (None, 8, 8, 512)         2359808   \n",
            "                                                                 \n",
            " activation_9 (Activation)   (None, 8, 8, 512)         0         \n",
            "                                                                 \n",
            " max_pooling2d_3 (MaxPooling  (None, 4, 4, 512)        0         \n",
            " 2D)                                                             \n",
            "                                                                 \n",
            " batch_normalization_9 (Batc  (None, 4, 4, 512)        2048      \n",
            " hNormalization)                                                 \n",
            "                                                                 \n",
            " conv2d_10 (Conv2D)          (None, 4, 4, 512)         2359808   \n",
            "                                                                 \n",
            " activation_10 (Activation)  (None, 4, 4, 512)         0         \n",
            "                                                                 \n",
            " batch_normalization_10 (Bat  (None, 4, 4, 512)        2048      \n",
            " chNormalization)                                                \n",
            "                                                                 \n",
            " conv2d_11 (Conv2D)          (None, 4, 4, 512)         2359808   \n",
            "                                                                 \n",
            " activation_11 (Activation)  (None, 4, 4, 512)         0         \n",
            "                                                                 \n",
            " batch_normalization_11 (Bat  (None, 4, 4, 512)        2048      \n",
            " chNormalization)                                                \n",
            "                                                                 \n",
            " conv2d_12 (Conv2D)          (None, 4, 4, 512)         2359808   \n",
            "                                                                 \n",
            " activation_12 (Activation)  (None, 4, 4, 512)         0         \n",
            "                                                                 \n",
            " max_pooling2d_4 (MaxPooling  (None, 2, 2, 512)        0         \n",
            " 2D)                                                             \n",
            "                                                                 \n",
            " batch_normalization_12 (Bat  (None, 2, 2, 512)        2048      \n",
            " chNormalization)                                                \n",
            "                                                                 \n",
            " flatten (Flatten)           (None, 2048)              0         \n",
            "                                                                 \n",
            " dense (Dense)               (None, 4096)              8392704   \n",
            "                                                                 \n",
            " activation_13 (Activation)  (None, 4096)              0         \n",
            "                                                                 \n",
            " batch_normalization_13 (Bat  (None, 4096)             16384     \n",
            " chNormalization)                                                \n",
            "                                                                 \n",
            " dropout (Dropout)           (None, 4096)              0         \n",
            "                                                                 \n",
            " dense_1 (Dense)             (None, 4096)              16781312  \n",
            "                                                                 \n",
            " activation_14 (Activation)  (None, 4096)              0         \n",
            "                                                                 \n",
            " batch_normalization_14 (Bat  (None, 4096)             16384     \n",
            " chNormalization)                                                \n",
            "                                                                 \n",
            " dropout_1 (Dropout)         (None, 4096)              0         \n",
            "                                                                 \n"
          ]
        },
        {
          "output_type": "stream",
          "name": "stderr",
          "text": [
            "/usr/local/lib/python3.7/dist-packages/keras/optimizer_v2/rmsprop.py:130: UserWarning: The `lr` argument is deprecated, use `learning_rate` instead.\n",
            "  super(RMSprop, self).__init__(name, **kwargs)\n"
          ]
        },
        {
          "output_type": "stream",
          "name": "stdout",
          "text": [
            " dense_2 (Dense)             (None, 1000)              4097000   \n",
            "                                                                 \n",
            " activation_15 (Activation)  (None, 1000)              0         \n",
            "                                                                 \n",
            " batch_normalization_15 (Bat  (None, 1000)             4000      \n",
            " chNormalization)                                                \n",
            "                                                                 \n",
            " dropout_2 (Dropout)         (None, 1000)              0         \n",
            "                                                                 \n",
            " dense_3 (Dense)             (None, 2)                 2002      \n",
            "                                                                 \n",
            "=================================================================\n",
            "Total params: 44,040,218\n",
            "Trainable params: 44,013,386\n",
            "Non-trainable params: 26,832\n",
            "_________________________________________________________________\n"
          ]
        }
      ],
      "source": [
        "#setting hyperparameter, menggunakan Adam\n",
        "opt = RMSprop(lr=0.0001)\n",
        "vgg16.compile(loss='categorical_crossentropy', optimizer=opt, metrics=['accuracy'])\n",
        "vgg16.summary()"
      ]
    },
    {
      "cell_type": "code",
      "execution_count": 13,
      "metadata": {
        "colab": {
          "base_uri": "https://localhost:8080/"
        },
        "id": "JOp0TzHxZYLf",
        "outputId": "37b5d956-c92f-4f76-9efe-fc1c022a5002"
      },
      "outputs": [
        {
          "output_type": "stream",
          "name": "stdout",
          "text": [
            "Epoch 1/10\n",
            "159/159 [==============================] - 27s 69ms/step - loss: 0.5939 - accuracy: 0.8231 - val_loss: 5.7351 - val_accuracy: 0.5268\n",
            "Epoch 2/10\n",
            "159/159 [==============================] - 9s 56ms/step - loss: 0.5249 - accuracy: 0.8598 - val_loss: 7.2345 - val_accuracy: 0.5268\n",
            "Epoch 3/10\n",
            "159/159 [==============================] - 9s 56ms/step - loss: 0.4781 - accuracy: 0.8669 - val_loss: 3.9319 - val_accuracy: 0.5268\n",
            "Epoch 4/10\n",
            "159/159 [==============================] - 9s 56ms/step - loss: 0.3865 - accuracy: 0.8803 - val_loss: 1.5761 - val_accuracy: 0.5457\n",
            "Epoch 5/10\n",
            "159/159 [==============================] - 9s 57ms/step - loss: 0.3404 - accuracy: 0.8867 - val_loss: 0.4912 - val_accuracy: 0.8880\n",
            "Epoch 6/10\n",
            "159/159 [==============================] - 9s 57ms/step - loss: 0.3328 - accuracy: 0.8945 - val_loss: 0.9697 - val_accuracy: 0.8281\n",
            "Epoch 7/10\n",
            "159/159 [==============================] - 9s 58ms/step - loss: 0.2528 - accuracy: 0.9096 - val_loss: 0.7287 - val_accuracy: 0.8912\n",
            "Epoch 8/10\n",
            "159/159 [==============================] - 9s 58ms/step - loss: 0.1885 - accuracy: 0.9329 - val_loss: 0.4566 - val_accuracy: 0.9164\n",
            "Epoch 9/10\n",
            "159/159 [==============================] - 9s 59ms/step - loss: 0.1885 - accuracy: 0.9435 - val_loss: 0.6989 - val_accuracy: 0.7539\n",
            "Epoch 10/10\n",
            "159/159 [==============================] - 9s 58ms/step - loss: 0.1645 - accuracy: 0.9498 - val_loss: 0.3219 - val_accuracy: 0.9243\n"
          ]
        }
      ],
      "source": [
        "#training data\n",
        "H = vgg16.fit(trainX, trainY, validation_data=(testX, testY), epochs=10, batch_size=16)"
      ]
    },
    {
      "cell_type": "code",
      "execution_count": 14,
      "metadata": {
        "colab": {
          "base_uri": "https://localhost:8080/"
        },
        "id": "qjoEfHoWsr9H",
        "outputId": "af6e6fde-5df6-48bb-8d5c-1afb43c74c7f"
      },
      "outputs": [
        {
          "output_type": "stream",
          "name": "stdout",
          "text": [
            "[INFO] evaluating network...\n"
          ]
        }
      ],
      "source": [
        "print(\"[INFO] evaluating network...\")\n",
        "predictions = vgg16.predict(testX, batch_size=16)\n",
        "pred=predictions.argmax(axis=1)\n",
        "testY_argm=testY.argmax(axis=1)\n"
      ]
    },
    {
      "cell_type": "code",
      "execution_count": 15,
      "metadata": {
        "colab": {
          "base_uri": "https://localhost:8080/"
        },
        "id": "Po9wqNIMts7s",
        "outputId": "69744f66-6bb0-4928-a5a2-bdba8f54cb28"
      },
      "outputs": [
        {
          "output_type": "stream",
          "name": "stdout",
          "text": [
            "              precision    recall  f1-score   support\n",
            "\n",
            "      Normal       0.98      0.88      0.92       334\n",
            "   Pneumonia       0.88      0.98      0.92       300\n",
            "\n",
            "    accuracy                           0.92       634\n",
            "   macro avg       0.93      0.93      0.92       634\n",
            "weighted avg       0.93      0.92      0.92       634\n",
            "\n"
          ]
        }
      ],
      "source": [
        "print(classification_report(testY_argm,pred,target_names=lb.classes_))"
      ]
    },
    {
      "cell_type": "code",
      "execution_count": 16,
      "metadata": {
        "id": "5NSJXylrt1ND",
        "colab": {
          "base_uri": "https://localhost:8080/"
        },
        "outputId": "3fe31a26-7ba0-4672-851d-9438cc02f379"
      },
      "outputs": [
        {
          "output_type": "stream",
          "name": "stdout",
          "text": [
            "20/20 [==============================] - 2s 53ms/step - loss: 0.3219 - accuracy: 0.9243\n",
            "Test Loss 0.3219, accuracy 92.43%\n"
          ]
        }
      ],
      "source": [
        "test_score = vgg16.evaluate(testX, testY) \n",
        "print(\"Test Loss {:.4f}, accuracy {:.2f}%\".format(test_score[0], test_score[1] * 100))"
      ]
    },
    {
      "cell_type": "code",
      "execution_count": 17,
      "metadata": {
        "id": "ZS-FXHa6uI6H"
      },
      "outputs": [],
      "source": [
        "from sklearn.metrics import confusion_matrix\n",
        "import itertools\n",
        "\n",
        "def plot_confusion_matrix(cm, classes, normalize=False, title='Confusion matrix', cmap='Blues'):\n",
        "  if normalize:\n",
        "     cm = cm.astype('float') / cm.sum(axis=1)[:, np.newaxis]\n",
        "     print(\"Normalized confusion matrix\")\n",
        "  else:\n",
        "     print('Confusion matrix, without normalization')\n",
        "  print(cm)\n",
        "  plt.imshow(cm, interpolation='nearest', cmap=cmap)\n",
        "  plt.title(title)\n",
        "  plt.colorbar()\n",
        "  tick_marks = np.arange(len(classes))\n",
        "  plt.xticks(tick_marks, classes, rotation=45)\n",
        "  plt.yticks(tick_marks, classes)\n",
        "  fmt = '.2f' if normalize else 'd'\n",
        "  thresh = cm.max() / 2.\n",
        "  for i, j in itertools.product(range(cm.shape[0]), range(cm.shape[1])):\n",
        "      plt.text(j, i, format(cm[i, j], fmt), horizontalalignment=\"center\", color=\"white\" if cm[i, j] > thresh else \"black\")\n",
        "  plt.ylabel('True label')\n",
        "  plt.xlabel('Predicted label')\n",
        "  plt.tight_layout()"
      ]
    },
    {
      "cell_type": "code",
      "execution_count": 18,
      "metadata": {
        "id": "eiYstz9xuRLx",
        "colab": {
          "base_uri": "https://localhost:8080/",
          "height": 1000
        },
        "outputId": "0e59780f-1faf-4a5c-cfea-eaaaf33cbc86"
      },
      "outputs": [
        {
          "output_type": "stream",
          "name": "stdout",
          "text": [
            "Normalized confusion matrix\n",
            "[[0.88 0.12]\n",
            " [0.02 0.98]]\n"
          ]
        },
        {
          "output_type": "display_data",
          "data": {
            "text/plain": [
              "<Figure size 432x288 with 2 Axes>"
            ],
            "image/png": "[encoded data removed]"
          },
          "metadata": {
            "needs_background": "light"
          }
        },
        {
          "output_type": "stream",
          "name": "stdout",
          "text": [
            "Confusion matrix, without normalization\n",
            "[[293  41]\n",
            " [  7 293]]\n"
          ]
        },
        {
          "output_type": "display_data",
          "data": {
            "text/plain": [
              "<Figure size 432x288 with 2 Axes>"
            ],
            "image/png": "[encoded data removed]"
          },
          "metadata": {
            "needs_background": "light"
          }
        },
        {
          "output_type": "display_data",
          "data": {
            "text/plain": [
              "<Figure size 432x288 with 1 Axes>"
            ],
            "image/png": "[encoded data removed]"
          },
          "metadata": {
            "needs_background": "light"
          }
        },
        {
          "output_type": "display_data",
          "data": {
            "text/plain": [
              "<Figure size 432x288 with 1 Axes>"
            ],
            "image/png": "[encoded data removed]"
          },
          "metadata": {
            "needs_background": "light"
          }
        }
      ],
      "source": [
        "cnf_matrix = confusion_matrix(testY_argm, pred)\n",
        "np.set_printoptions(precision=2)\n",
        "\n",
        "# Plot non/normalized confusion matrix\n",
        "plt.figure()\n",
        "plot_confusion_matrix(cnf_matrix,\n",
        "classes=lb.classes_, normalize=True)\n",
        "plt.show()\n",
        "\n",
        "plt.figure()\n",
        "plot_confusion_matrix(cnf_matrix,\n",
        "classes=lb.classes_, normalize=False)\n",
        "plt.show()\n",
        "\n",
        "f, ax = plt.subplots()\n",
        "ax.plot([None] + H.history['accuracy'], 'o-')\n",
        "ax.plot([None] + H.history['val_accuracy'], 'x-')\n",
        "\n",
        "ax.legend(['Train acc', 'Validation acc'], loc = 0)\n",
        "ax.set_title('Training/Validation acc per Epoch')\n",
        "ax.set_xlabel('Epoch')\n",
        "ax.set_ylabel('acc')\n",
        "plt.grid(True)\n",
        "\n",
        "f, ax = plt.subplots()\n",
        "ax.plot([None] + H.history['loss'], 'o-')\n",
        "ax.plot([None] + H.history['val_loss'], 'x-')\n",
        "ax.legend(['Train Loss', 'Validation Loss'], loc = 0)\n",
        "ax.set_title('Training/Validation Loss per Epoch')\n",
        "ax.set_xlabel('Epoch')\n",
        "ax.set_ylabel('loss')\n",
        "plt.grid(True)"
      ]
    }
  ],
  "metadata": {
    "accelerator": "GPU",
    "colab": {
      "collapsed_sections": [],
      "name": "pneumonia_VGG_16_fiX (3).ipynb",
      "provenance": [],
      "include_colab_link": true
    },
    "gpuClass": "standard",
    "kernelspec": {
      "display_name": "Python 3",
      "name": "python3"
    },
    "language_info": {
      "name": "python"
    }
  },
  "nbformat": 4,
  "nbformat_minor": 0
}