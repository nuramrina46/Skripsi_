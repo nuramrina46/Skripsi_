{
  "cells": [
    {
      "cell_type": "markdown",
      "metadata": {
        "id": "view-in-github",
        "colab_type": "text"
      },
      "source": [
        "<a href=\"https://colab.research.google.com/github/nuramrina46/Skripsi-VGG-16/blob/main/epoch%2070.ipynb\" target=\"_parent\"><img src=\"https://colab.research.google.com/assets/colab-badge.svg\" alt=\"Open In Colab\"/></a>"
      ]
    },
    {
      "cell_type": "code",
      "execution_count": 1,
      "metadata": {
        "colab": {
          "base_uri": "https://localhost:8080/"
        },
        "id": "2_RYo7hrXaC5",
        "outputId": "fd3e1324-77a2-435a-95d3-389b0728ae8a"
      },
      "outputs": [
        {
          "output_type": "stream",
          "name": "stdout",
          "text": [
            "Drive already mounted at /content/drive; to attempt to forcibly remount, call drive.mount(\"/content/drive\", force_remount=True).\n"
          ]
        }
      ],
      "source": [
        "from google.colab import drive\n",
        "drive.mount('/content/drive')"
      ]
    },
    {
      "cell_type": "code",
      "execution_count": 2,
      "metadata": {
        "colab": {
          "base_uri": "https://localhost:8080/"
        },
        "id": "G4aisxOFX3KH",
        "outputId": "42f5ddff-fca3-4318-e01e-75d32445a06a"
      },
      "outputs": [
        {
          "output_type": "stream",
          "name": "stdout",
          "text": [
            "/content/drive/MyDrive/Colab Notebooks\n"
          ]
        }
      ],
      "source": [
        "cd /content/drive/MyDrive/Colab Notebooks"
      ]
    },
    {
      "cell_type": "code",
      "execution_count": 3,
      "metadata": {
        "colab": {
          "base_uri": "https://localhost:8080/"
        },
        "id": "e_oGUrADX8O_",
        "outputId": "ab1eaee2-3b4a-477a-dee6-e2fd8f85d668"
      },
      "outputs": [
        {
          "output_type": "stream",
          "name": "stdout",
          "text": [
            " \u001b[0m\u001b[01;34mPNEUMONIA\u001b[0m/                        pneumonia_vgg_19.ipynb\n",
            " \u001b[01;34mPNEUMONIA32\u001b[0m/                     'Salinan dari pneumonia_VGG_16_fiX (3).ipynb'\n",
            "'pneumonia(clahe).ipynb'           Untitled0.ipynb\n",
            "'pneumonia_VGG_16_fiX (3).ipynb'   Untitled1.ipynb\n",
            "'pneumonia_vgg_19 (2).ipynb'\n"
          ]
        }
      ],
      "source": [
        "ls"
      ]
    },
    {
      "cell_type": "code",
      "execution_count": 4,
      "metadata": {
        "id": "t95OxlI7X_OF"
      },
      "outputs": [],
      "source": [
        "from keras.models import Model\n",
        "from keras.models import load_model\n",
        "from keras.models import Sequential\n",
        "from keras.layers.convolutional import Convolution2D\n",
        "from keras.layers.convolutional import MaxPooling2D\n",
        "from keras.layers.convolutional import ZeroPadding2D\n",
        "from keras.layers.core import Activation\n",
        "from keras.layers.core import Flatten\n",
        "from keras.layers.core import Dense\n",
        "from keras.layers.core import Dropout\n",
        "from keras.layers import BatchNormalization\n",
        "from keras import regularizers\n",
        "from tensorflow.keras.optimizers import RMSprop, Adam, SGD\n",
        "from sklearn.preprocessing import LabelBinarizer\n",
        "from sklearn.model_selection import train_test_split\n",
        "from sklearn.metrics import classification_report\n",
        "from PIL import Image\n",
        "from matplotlib import pyplot as plt\n",
        "from imutils import paths\n",
        "import numpy as np\n",
        "import os"
      ]
    },
    {
      "cell_type": "code",
      "execution_count": 5,
      "metadata": {
        "colab": {
          "base_uri": "https://localhost:8080/"
        },
        "id": "jvn693i-YDZ8",
        "outputId": "620ef7d7-a701-40ca-f86a-7c3f09f66082"
      },
      "outputs": [
        {
          "output_type": "stream",
          "name": "stdout",
          "text": [
            "[INFO] loading images...\n"
          ]
        }
      ],
      "source": [
        "print(\"[INFO] loading images...\")\n",
        "imagePaths = paths.list_images(\"PNEUMONIA\")\n",
        "data = []\n",
        "labels = []"
      ]
    },
    {
      "cell_type": "code",
      "execution_count": 6,
      "metadata": {
        "id": "3XLuWAZsYLfK"
      },
      "outputs": [],
      "source": [
        "for imagePaths in imagePaths:\n",
        "    a = Image.open(imagePaths)\n",
        "    image = np.array(a.resize((64,64))) / 255.0\n",
        "    data.append(image)\n",
        "    \n",
        "    label = imagePaths.split(os.path.sep) [-2]\n",
        "    labels.append(label)"
      ]
    },
    {
      "cell_type": "code",
      "execution_count": 7,
      "metadata": {
        "colab": {
          "base_uri": "https://localhost:8080/"
        },
        "id": "WEn6-tEdG4Bs",
        "outputId": "490ebd1c-8acb-4a9e-94a9-987c2c13abcd"
      },
      "outputs": [
        {
          "output_type": "stream",
          "name": "stdout",
          "text": [
            "(3166, 64, 64, 1)\n"
          ]
        }
      ],
      "source": [
        "temp = np.array(data)\n",
        "temp = np.expand_dims(temp, axis=3)\n",
        "print(temp.shape)"
      ]
    },
    {
      "cell_type": "code",
      "execution_count": 8,
      "metadata": {
        "colab": {
          "base_uri": "https://localhost:8080/"
        },
        "id": "gnjyPDi_Yyrn",
        "outputId": "92298536-9ad9-49c4-b350-143b08a7387f"
      },
      "outputs": [
        {
          "output_type": "stream",
          "name": "stdout",
          "text": [
            "[[0 1]\n",
            " [0 1]\n",
            " [0 1]\n",
            " ...\n",
            " [1 0]\n",
            " [1 0]\n",
            " [1 0]]\n"
          ]
        }
      ],
      "source": [
        "from sklearn.preprocessing import LabelBinarizer\n",
        "import numpy as np\n",
        "\n",
        "class MyLabelBinarizer(LabelBinarizer):\n",
        "    def transform(self, label):\n",
        "      nilaiy = super().transform(label)\n",
        "      if self.y_type_== 'binary':\n",
        "        return np.hstack((nilaiy, 1-nilaiy))\n",
        "      else:\n",
        "        return nilaiy\n",
        "    def inverse_transform(self, nilaiy, threshold=None):\n",
        "      if self.y_type_ == 'binary':\n",
        "          return super().inverse_transform(nilaiy[:, 0], threshold)\n",
        "      else:\n",
        "          return super().inverse_transform(nilaiy, threshold)\n",
        "\n",
        "      \n",
        "\n",
        "lb = MyLabelBinarizer()\n",
        "labels = lb.fit_transform(labels)\n",
        "print(labels)"
      ]
    },
    {
      "cell_type": "code",
      "execution_count": 9,
      "metadata": {
        "colab": {
          "base_uri": "https://localhost:8080/"
        },
        "id": "0V3CnlQtY1g2",
        "outputId": "69dcf3f4-bcef-4227-e6d6-17cf63bea70f"
      },
      "outputs": [
        {
          "output_type": "stream",
          "name": "stdout",
          "text": [
            "(2532, 64, 64)\n",
            "(634, 64, 64)\n"
          ]
        }
      ],
      "source": [
        "(trainX, testX, trainY, testY) = train_test_split(np.array(data),np.array(labels), test_size=0.20)\n",
        "print(trainX.shape)\n",
        "print(testX.shape)"
      ]
    },
    {
      "cell_type": "code",
      "execution_count": 10,
      "metadata": {
        "id": "WpeYjXzUZCZP"
      },
      "outputs": [],
      "source": [
        "def vgg16(num_classes):\n",
        "\n",
        "    vgg16 = Sequential()\n",
        "\n",
        "    vgg16.add(Convolution2D(input_shape=(64,64,1),filters=64,kernel_size=(3,3),padding=\"same\"))\n",
        "    vgg16.add(Activation('relu'))\n",
        "    vgg16.add(BatchNormalization())\n",
        "    #layer1 32*32*64\n",
        "    vgg16.add(Convolution2D(filters=64,kernel_size=(3,3),padding=\"same\"))\n",
        "    vgg16.add(Activation('relu'))\n",
        "    vgg16.add(MaxPooling2D(pool_size=(2, 2),strides=(2,2)))\n",
        "    vgg16.add(BatchNormalization())\n",
        "    #layer2 16*16*64\n",
        "    vgg16.add(Convolution2D(filters=128, kernel_size=(3,3), padding=\"same\"))\n",
        "    vgg16.add(Activation('relu'))\n",
        "    vgg16.add(BatchNormalization())\n",
        "    #layer3 16*16*128\n",
        "    vgg16.add(Convolution2D(filters=128, kernel_size=(3,3), padding=\"same\",))\n",
        "    vgg16.add(Activation('relu'))\n",
        "    vgg16.add(MaxPooling2D(pool_size=(2,2),strides=(2,2)))\n",
        "    vgg16.add(BatchNormalization())\n",
        "    #layer4 8*8*128\n",
        "    vgg16.add(Convolution2D(filters=256, kernel_size=(3,3), padding=\"same\"))\n",
        "    vgg16.add(Activation('relu'))\n",
        "    vgg16.add(BatchNormalization())\n",
        "    #layer5 8*8*256\n",
        "    vgg16.add(Convolution2D(filters=256, kernel_size=(3,3), padding=\"same\"))\n",
        "    vgg16.add(Activation('relu'))\n",
        "    vgg16.add(BatchNormalization())\n",
        "    #layer6 8*8*256\n",
        "    vgg16.add(Convolution2D(filters=256, kernel_size=(3,3), padding=\"same\"))\n",
        "    vgg16.add(Activation('relu'))\n",
        "    vgg16.add(MaxPooling2D(pool_size=(2,2),strides=(2,2)))\n",
        "    vgg16.add(BatchNormalization())\n",
        "    #layer7 4*4*256\n",
        "    vgg16.add(Convolution2D(filters=512, kernel_size=(3,3), padding=\"same\"))\n",
        "    vgg16.add(Activation('relu'))\n",
        "    vgg16.add(BatchNormalization())\n",
        "    #layer8 4*4*512\n",
        "    vgg16.add(Convolution2D(filters=512, kernel_size=(3,3), padding=\"same\"))\n",
        "    vgg16.add(Activation('relu'))\n",
        "    vgg16.add(BatchNormalization())\n",
        "    #layer9 4*4*512\n",
        "    vgg16.add(Convolution2D(filters=512, kernel_size=(3,3), padding=\"same\"))\n",
        "    vgg16.add(Activation('relu'))\n",
        "    vgg16.add(MaxPooling2D(pool_size=(2,2),strides=(2,2)))\n",
        "    vgg16.add(BatchNormalization())\n",
        "    #layer10 2*2*512\n",
        "    vgg16.add(Convolution2D(filters=512, kernel_size=(3,3), padding=\"same\"))\n",
        "    vgg16.add(Activation('relu'))\n",
        "    vgg16.add(BatchNormalization())\n",
        "    #layer11 2*2*512\n",
        "    vgg16.add(Convolution2D(filters=512, kernel_size=(3,3), padding=\"same\"))  \n",
        "    vgg16.add(Activation('relu')) \n",
        "    vgg16.add(BatchNormalization())       \n",
        "    #layer12 2*2*512\n",
        "    vgg16.add(Convolution2D(filters=512, kernel_size=(3,3), padding=\"same\"))\n",
        "    vgg16.add(Activation('relu'))\n",
        "    vgg16.add(MaxPooling2D(pool_size=(2,2),strides=(2,2)))\n",
        "    vgg16.add(BatchNormalization())\n",
        "    #layer13 1*1*512\n",
        "    vgg16.add(Flatten())\n",
        "    vgg16.add(Dense(units=4096))\n",
        "    vgg16.add(Activation('relu')) \n",
        "    vgg16.add(BatchNormalization())\n",
        "    vgg16.add(Dropout(0.5))\n",
        "    #layer14 4096\n",
        "    vgg16.add(Dense(units=4096))\n",
        "    vgg16.add(Activation('relu')) \n",
        "    vgg16.add(BatchNormalization())\n",
        "    vgg16.add(Dropout(0.5))\n",
        "    #layer16 4096\n",
        "    vgg16.add(Dense(units=1000))\n",
        "    vgg16.add(Activation('relu'))\n",
        "    vgg16.add(BatchNormalization())\n",
        "    vgg16.add(Dropout(0.5)) \n",
        "    #layer16 1000\n",
        "    vgg16.add(Dense(2, activation=\"softmax\"))\n",
        "\n",
        "    return vgg16"
      ]
    },
    {
      "cell_type": "code",
      "execution_count": 11,
      "metadata": {
        "colab": {
          "base_uri": "https://localhost:8080/"
        },
        "id": "rlT3OhVuZLUs",
        "outputId": "eb624e0b-1ca6-4496-8d45-6c03fd153b95"
      },
      "outputs": [
        {
          "output_type": "stream",
          "name": "stdout",
          "text": [
            "Model: \"sequential\"\n",
            "_________________________________________________________________\n",
            " Layer (type)                Output Shape              Param #   \n",
            "=================================================================\n",
            " conv2d (Conv2D)             (None, 64, 64, 64)        640       \n",
            "                                                                 \n",
            " activation (Activation)     (None, 64, 64, 64)        0         \n",
            "                                                                 \n",
            " batch_normalization (BatchN  (None, 64, 64, 64)       256       \n",
            " ormalization)                                                   \n",
            "                                                                 \n",
            " conv2d_1 (Conv2D)           (None, 64, 64, 64)        36928     \n",
            "                                                                 \n",
            " activation_1 (Activation)   (None, 64, 64, 64)        0         \n",
            "                                                                 \n",
            " max_pooling2d (MaxPooling2D  (None, 32, 32, 64)       0         \n",
            " )                                                               \n",
            "                                                                 \n",
            " batch_normalization_1 (Batc  (None, 32, 32, 64)       256       \n",
            " hNormalization)                                                 \n",
            "                                                                 \n",
            " conv2d_2 (Conv2D)           (None, 32, 32, 128)       73856     \n",
            "                                                                 \n",
            " activation_2 (Activation)   (None, 32, 32, 128)       0         \n",
            "                                                                 \n",
            " batch_normalization_2 (Batc  (None, 32, 32, 128)      512       \n",
            " hNormalization)                                                 \n",
            "                                                                 \n",
            " conv2d_3 (Conv2D)           (None, 32, 32, 128)       147584    \n",
            "                                                                 \n",
            " activation_3 (Activation)   (None, 32, 32, 128)       0         \n",
            "                                                                 \n",
            " max_pooling2d_1 (MaxPooling  (None, 16, 16, 128)      0         \n",
            " 2D)                                                             \n",
            "                                                                 \n",
            " batch_normalization_3 (Batc  (None, 16, 16, 128)      512       \n",
            " hNormalization)                                                 \n",
            "                                                                 \n",
            " conv2d_4 (Conv2D)           (None, 16, 16, 256)       295168    \n",
            "                                                                 \n",
            " activation_4 (Activation)   (None, 16, 16, 256)       0         \n",
            "                                                                 \n",
            " batch_normalization_4 (Batc  (None, 16, 16, 256)      1024      \n",
            " hNormalization)                                                 \n",
            "                                                                 \n",
            " conv2d_5 (Conv2D)           (None, 16, 16, 256)       590080    \n",
            "                                                                 \n",
            " activation_5 (Activation)   (None, 16, 16, 256)       0         \n",
            "                                                                 \n",
            " batch_normalization_5 (Batc  (None, 16, 16, 256)      1024      \n",
            " hNormalization)                                                 \n",
            "                                                                 \n",
            " conv2d_6 (Conv2D)           (None, 16, 16, 256)       590080    \n",
            "                                                                 \n",
            " activation_6 (Activation)   (None, 16, 16, 256)       0         \n",
            "                                                                 \n",
            " max_pooling2d_2 (MaxPooling  (None, 8, 8, 256)        0         \n",
            " 2D)                                                             \n",
            "                                                                 \n",
            " batch_normalization_6 (Batc  (None, 8, 8, 256)        1024      \n",
            " hNormalization)                                                 \n",
            "                                                                 \n",
            " conv2d_7 (Conv2D)           (None, 8, 8, 512)         1180160   \n",
            "                                                                 \n",
            " activation_7 (Activation)   (None, 8, 8, 512)         0         \n",
            "                                                                 \n",
            " batch_normalization_7 (Batc  (None, 8, 8, 512)        2048      \n",
            " hNormalization)                                                 \n",
            "                                                                 \n",
            " conv2d_8 (Conv2D)           (None, 8, 8, 512)         2359808   \n",
            "                                                                 \n",
            " activation_8 (Activation)   (None, 8, 8, 512)         0         \n",
            "                                                                 \n",
            " batch_normalization_8 (Batc  (None, 8, 8, 512)        2048      \n",
            " hNormalization)                                                 \n",
            "                                                                 \n",
            " conv2d_9 (Conv2D)           (None, 8, 8, 512)         2359808   \n",
            "                                                                 \n",
            " activation_9 (Activation)   (None, 8, 8, 512)         0         \n",
            "                                                                 \n",
            " max_pooling2d_3 (MaxPooling  (None, 4, 4, 512)        0         \n",
            " 2D)                                                             \n",
            "                                                                 \n",
            " batch_normalization_9 (Batc  (None, 4, 4, 512)        2048      \n",
            " hNormalization)                                                 \n",
            "                                                                 \n",
            " conv2d_10 (Conv2D)          (None, 4, 4, 512)         2359808   \n",
            "                                                                 \n",
            " activation_10 (Activation)  (None, 4, 4, 512)         0         \n",
            "                                                                 \n",
            " batch_normalization_10 (Bat  (None, 4, 4, 512)        2048      \n",
            " chNormalization)                                                \n",
            "                                                                 \n",
            " conv2d_11 (Conv2D)          (None, 4, 4, 512)         2359808   \n",
            "                                                                 \n",
            " activation_11 (Activation)  (None, 4, 4, 512)         0         \n",
            "                                                                 \n",
            " batch_normalization_11 (Bat  (None, 4, 4, 512)        2048      \n",
            " chNormalization)                                                \n",
            "                                                                 \n",
            " conv2d_12 (Conv2D)          (None, 4, 4, 512)         2359808   \n",
            "                                                                 \n",
            " activation_12 (Activation)  (None, 4, 4, 512)         0         \n",
            "                                                                 \n",
            " max_pooling2d_4 (MaxPooling  (None, 2, 2, 512)        0         \n",
            " 2D)                                                             \n",
            "                                                                 \n",
            " batch_normalization_12 (Bat  (None, 2, 2, 512)        2048      \n",
            " chNormalization)                                                \n",
            "                                                                 \n",
            " flatten (Flatten)           (None, 2048)              0         \n",
            "                                                                 \n",
            " dense (Dense)               (None, 4096)              8392704   \n",
            "                                                                 \n",
            " activation_13 (Activation)  (None, 4096)              0         \n",
            "                                                                 \n",
            " batch_normalization_13 (Bat  (None, 4096)             16384     \n",
            " chNormalization)                                                \n",
            "                                                                 \n",
            " dropout (Dropout)           (None, 4096)              0         \n",
            "                                                                 \n",
            " dense_1 (Dense)             (None, 4096)              16781312  \n",
            "                                                                 \n",
            " activation_14 (Activation)  (None, 4096)              0         \n",
            "                                                                 \n",
            " batch_normalization_14 (Bat  (None, 4096)             16384     \n",
            " chNormalization)                                                \n",
            "                                                                 \n",
            " dropout_1 (Dropout)         (None, 4096)              0         \n",
            "                                                                 \n",
            " dense_2 (Dense)             (None, 1000)              4097000   \n",
            "                                                                 \n",
            " activation_15 (Activation)  (None, 1000)              0         \n",
            "                                                                 \n",
            " batch_normalization_15 (Bat  (None, 1000)             4000      \n",
            " chNormalization)                                                \n",
            "                                                                 \n",
            " dropout_2 (Dropout)         (None, 1000)              0         \n",
            "                                                                 \n",
            " dense_3 (Dense)             (None, 2)                 2002      \n",
            "                                                                 \n",
            "=================================================================\n",
            "Total params: 44,040,218\n",
            "Trainable params: 44,013,386\n",
            "Non-trainable params: 26,832\n",
            "_________________________________________________________________\n"
          ]
        }
      ],
      "source": [
        "num_classes=2\n",
        "vgg16=vgg16(num_classes)\n",
        "vgg16.summary()"
      ]
    },
    {
      "cell_type": "code",
      "execution_count": 12,
      "metadata": {
        "colab": {
          "base_uri": "https://localhost:8080/"
        },
        "id": "eZ0TePWVZTx4",
        "outputId": "d50518b0-8ab8-49c3-f16c-fcde5edcdc7c"
      },
      "outputs": [
        {
          "output_type": "stream",
          "name": "stdout",
          "text": [
            "Model: \"sequential\"\n",
            "_________________________________________________________________\n",
            " Layer (type)                Output Shape              Param #   \n",
            "=================================================================\n",
            " conv2d (Conv2D)             (None, 64, 64, 64)        640       \n",
            "                                                                 \n",
            " activation (Activation)     (None, 64, 64, 64)        0         \n",
            "                                                                 \n",
            " batch_normalization (BatchN  (None, 64, 64, 64)       256       \n",
            " ormalization)                                                   \n",
            "                                                                 \n",
            " conv2d_1 (Conv2D)           (None, 64, 64, 64)        36928     \n",
            "                                                                 \n",
            " activation_1 (Activation)   (None, 64, 64, 64)        0         \n",
            "                                                                 \n",
            " max_pooling2d (MaxPooling2D  (None, 32, 32, 64)       0         \n",
            " )                                                               \n",
            "                                                                 \n",
            " batch_normalization_1 (Batc  (None, 32, 32, 64)       256       \n",
            " hNormalization)                                                 \n",
            "                                                                 \n",
            " conv2d_2 (Conv2D)           (None, 32, 32, 128)       73856     \n",
            "                                                                 \n",
            " activation_2 (Activation)   (None, 32, 32, 128)       0         \n",
            "                                                                 \n",
            " batch_normalization_2 (Batc  (None, 32, 32, 128)      512       \n",
            " hNormalization)                                                 \n",
            "                                                                 \n",
            " conv2d_3 (Conv2D)           (None, 32, 32, 128)       147584    \n",
            "                                                                 \n",
            " activation_3 (Activation)   (None, 32, 32, 128)       0         \n",
            "                                                                 \n",
            " max_pooling2d_1 (MaxPooling  (None, 16, 16, 128)      0         \n",
            " 2D)                                                             \n",
            "                                                                 \n",
            " batch_normalization_3 (Batc  (None, 16, 16, 128)      512       \n",
            " hNormalization)                                                 \n",
            "                                                                 \n",
            " conv2d_4 (Conv2D)           (None, 16, 16, 256)       295168    \n",
            "                                                                 \n",
            " activation_4 (Activation)   (None, 16, 16, 256)       0         \n",
            "                                                                 \n",
            " batch_normalization_4 (Batc  (None, 16, 16, 256)      1024      \n",
            " hNormalization)                                                 \n",
            "                                                                 \n",
            " conv2d_5 (Conv2D)           (None, 16, 16, 256)       590080    \n",
            "                                                                 \n",
            " activation_5 (Activation)   (None, 16, 16, 256)       0         \n",
            "                                                                 \n",
            " batch_normalization_5 (Batc  (None, 16, 16, 256)      1024      \n",
            " hNormalization)                                                 \n",
            "                                                                 \n",
            " conv2d_6 (Conv2D)           (None, 16, 16, 256)       590080    \n",
            "                                                                 \n",
            " activation_6 (Activation)   (None, 16, 16, 256)       0         \n",
            "                                                                 \n",
            " max_pooling2d_2 (MaxPooling  (None, 8, 8, 256)        0         \n",
            " 2D)                                                             \n",
            "                                                                 \n",
            " batch_normalization_6 (Batc  (None, 8, 8, 256)        1024      \n",
            " hNormalization)                                                 \n",
            "                                                                 \n",
            " conv2d_7 (Conv2D)           (None, 8, 8, 512)         1180160   \n",
            "                                                                 \n",
            " activation_7 (Activation)   (None, 8, 8, 512)         0         \n",
            "                                                                 \n",
            " batch_normalization_7 (Batc  (None, 8, 8, 512)        2048      \n",
            " hNormalization)                                                 \n",
            "                                                                 \n",
            " conv2d_8 (Conv2D)           (None, 8, 8, 512)         2359808   \n",
            "                                                                 \n",
            " activation_8 (Activation)   (None, 8, 8, 512)         0         \n",
            "                                                                 \n",
            " batch_normalization_8 (Batc  (None, 8, 8, 512)        2048      \n",
            " hNormalization)                                                 \n",
            "                                                                 \n",
            " conv2d_9 (Conv2D)           (None, 8, 8, 512)         2359808   \n",
            "                                                                 \n",
            " activation_9 (Activation)   (None, 8, 8, 512)         0         \n",
            "                                                                 \n",
            " max_pooling2d_3 (MaxPooling  (None, 4, 4, 512)        0         \n",
            " 2D)                                                             \n",
            "                                                                 \n",
            " batch_normalization_9 (Batc  (None, 4, 4, 512)        2048      \n",
            " hNormalization)                                                 \n",
            "                                                                 \n",
            " conv2d_10 (Conv2D)          (None, 4, 4, 512)         2359808   \n",
            "                                                                 \n",
            " activation_10 (Activation)  (None, 4, 4, 512)         0         \n",
            "                                                                 \n",
            " batch_normalization_10 (Bat  (None, 4, 4, 512)        2048      \n",
            " chNormalization)                                                \n",
            "                                                                 \n",
            " conv2d_11 (Conv2D)          (None, 4, 4, 512)         2359808   \n",
            "                                                                 \n",
            " activation_11 (Activation)  (None, 4, 4, 512)         0         \n",
            "                                                                 \n",
            " batch_normalization_11 (Bat  (None, 4, 4, 512)        2048      \n",
            " chNormalization)                                                \n",
            "                                                                 \n",
            " conv2d_12 (Conv2D)          (None, 4, 4, 512)         2359808   \n",
            "                                                                 \n",
            " activation_12 (Activation)  (None, 4, 4, 512)         0         \n",
            "                                                                 \n",
            " max_pooling2d_4 (MaxPooling  (None, 2, 2, 512)        0         \n",
            " 2D)                                                             \n",
            "                                                                 \n",
            " batch_normalization_12 (Bat  (None, 2, 2, 512)        2048      \n",
            " chNormalization)                                                \n"
          ]
        },
        {
          "output_type": "stream",
          "name": "stderr",
          "text": [
            "/usr/local/lib/python3.7/dist-packages/keras/optimizer_v2/rmsprop.py:130: UserWarning: The `lr` argument is deprecated, use `learning_rate` instead.\n",
            "  super(RMSprop, self).__init__(name, **kwargs)\n"
          ]
        },
        {
          "output_type": "stream",
          "name": "stdout",
          "text": [
            "                                                                 \n",
            " flatten (Flatten)           (None, 2048)              0         \n",
            "                                                                 \n",
            " dense (Dense)               (None, 4096)              8392704   \n",
            "                                                                 \n",
            " activation_13 (Activation)  (None, 4096)              0         \n",
            "                                                                 \n",
            " batch_normalization_13 (Bat  (None, 4096)             16384     \n",
            " chNormalization)                                                \n",
            "                                                                 \n",
            " dropout (Dropout)           (None, 4096)              0         \n",
            "                                                                 \n",
            " dense_1 (Dense)             (None, 4096)              16781312  \n",
            "                                                                 \n",
            " activation_14 (Activation)  (None, 4096)              0         \n",
            "                                                                 \n",
            " batch_normalization_14 (Bat  (None, 4096)             16384     \n",
            " chNormalization)                                                \n",
            "                                                                 \n",
            " dropout_1 (Dropout)         (None, 4096)              0         \n",
            "                                                                 \n",
            " dense_2 (Dense)             (None, 1000)              4097000   \n",
            "                                                                 \n",
            " activation_15 (Activation)  (None, 1000)              0         \n",
            "                                                                 \n",
            " batch_normalization_15 (Bat  (None, 1000)             4000      \n",
            " chNormalization)                                                \n",
            "                                                                 \n",
            " dropout_2 (Dropout)         (None, 1000)              0         \n",
            "                                                                 \n",
            " dense_3 (Dense)             (None, 2)                 2002      \n",
            "                                                                 \n",
            "=================================================================\n",
            "Total params: 44,040,218\n",
            "Trainable params: 44,013,386\n",
            "Non-trainable params: 26,832\n",
            "_________________________________________________________________\n"
          ]
        }
      ],
      "source": [
        "#setting hyperparameter, menggunakan Adam\n",
        "opt = RMSprop(lr=0.0001)\n",
        "vgg16.compile(loss='categorical_crossentropy', optimizer=opt, metrics=['accuracy'])\n",
        "vgg16.summary()"
      ]
    },
    {
      "cell_type": "code",
      "execution_count": 13,
      "metadata": {
        "colab": {
          "base_uri": "https://localhost:8080/"
        },
        "id": "JOp0TzHxZYLf",
        "outputId": "0554c3da-0bfb-4744-f542-0350c3ea3a9b"
      },
      "outputs": [
        {
          "output_type": "stream",
          "name": "stdout",
          "text": [
            "Epoch 1/70\n",
            "159/159 [==============================] - 18s 70ms/step - loss: 0.6127 - accuracy: 0.8211 - val_loss: 3.9242 - val_accuracy: 0.4921\n",
            "Epoch 2/70\n",
            "159/159 [==============================] - 9s 59ms/step - loss: 0.5433 - accuracy: 0.8527 - val_loss: 8.0761 - val_accuracy: 0.4921\n",
            "Epoch 3/70\n",
            "159/159 [==============================] - 9s 59ms/step - loss: 0.4365 - accuracy: 0.8645 - val_loss: 5.9010 - val_accuracy: 0.4921\n",
            "Epoch 4/70\n",
            "159/159 [==============================] - 9s 59ms/step - loss: 0.3840 - accuracy: 0.8843 - val_loss: 0.4585 - val_accuracy: 0.8328\n",
            "Epoch 5/70\n",
            "159/159 [==============================] - 9s 58ms/step - loss: 0.3122 - accuracy: 0.8997 - val_loss: 0.2476 - val_accuracy: 0.9306\n",
            "Epoch 6/70\n",
            "159/159 [==============================] - 9s 58ms/step - loss: 0.2879 - accuracy: 0.9088 - val_loss: 0.3673 - val_accuracy: 0.9369\n",
            "Epoch 7/70\n",
            "159/159 [==============================] - 9s 58ms/step - loss: 0.2372 - accuracy: 0.9269 - val_loss: 0.4663 - val_accuracy: 0.8644\n",
            "Epoch 8/70\n",
            "159/159 [==============================] - 9s 58ms/step - loss: 0.2314 - accuracy: 0.9273 - val_loss: 0.2132 - val_accuracy: 0.9558\n",
            "Epoch 9/70\n",
            "159/159 [==============================] - 9s 58ms/step - loss: 0.1809 - accuracy: 0.9467 - val_loss: 0.2151 - val_accuracy: 0.9259\n",
            "Epoch 10/70\n",
            "159/159 [==============================] - 9s 58ms/step - loss: 0.1355 - accuracy: 0.9609 - val_loss: 0.1928 - val_accuracy: 0.9385\n",
            "Epoch 11/70\n",
            "159/159 [==============================] - 9s 58ms/step - loss: 0.1194 - accuracy: 0.9652 - val_loss: 0.1773 - val_accuracy: 0.9574\n",
            "Epoch 12/70\n",
            "159/159 [==============================] - 9s 58ms/step - loss: 0.1019 - accuracy: 0.9692 - val_loss: 0.1814 - val_accuracy: 0.9432\n",
            "Epoch 13/70\n",
            "159/159 [==============================] - 9s 58ms/step - loss: 0.1041 - accuracy: 0.9724 - val_loss: 0.1606 - val_accuracy: 0.9448\n",
            "Epoch 14/70\n",
            "159/159 [==============================] - 9s 59ms/step - loss: 0.0900 - accuracy: 0.9751 - val_loss: 0.2886 - val_accuracy: 0.9274\n",
            "Epoch 15/70\n",
            "159/159 [==============================] - 9s 58ms/step - loss: 0.0497 - accuracy: 0.9893 - val_loss: 0.4301 - val_accuracy: 0.9322\n",
            "Epoch 16/70\n",
            "159/159 [==============================] - 9s 58ms/step - loss: 0.0505 - accuracy: 0.9893 - val_loss: 0.2886 - val_accuracy: 0.9527\n",
            "Epoch 17/70\n",
            "159/159 [==============================] - 9s 58ms/step - loss: 0.0593 - accuracy: 0.9874 - val_loss: 0.2616 - val_accuracy: 0.9479\n",
            "Epoch 18/70\n",
            "159/159 [==============================] - 9s 58ms/step - loss: 0.0484 - accuracy: 0.9889 - val_loss: 0.2861 - val_accuracy: 0.9448\n",
            "Epoch 19/70\n",
            "159/159 [==============================] - 9s 59ms/step - loss: 0.0336 - accuracy: 0.9913 - val_loss: 0.2588 - val_accuracy: 0.9432\n",
            "Epoch 20/70\n",
            "159/159 [==============================] - 9s 58ms/step - loss: 0.0484 - accuracy: 0.9905 - val_loss: 0.6471 - val_accuracy: 0.9006\n",
            "Epoch 21/70\n",
            "159/159 [==============================] - 9s 58ms/step - loss: 0.0484 - accuracy: 0.9913 - val_loss: 0.2985 - val_accuracy: 0.9479\n",
            "Epoch 22/70\n",
            "159/159 [==============================] - 9s 58ms/step - loss: 0.0382 - accuracy: 0.9941 - val_loss: 0.2932 - val_accuracy: 0.9574\n",
            "Epoch 23/70\n",
            "159/159 [==============================] - 9s 59ms/step - loss: 0.0167 - accuracy: 0.9957 - val_loss: 0.5825 - val_accuracy: 0.9322\n",
            "Epoch 24/70\n",
            "159/159 [==============================] - 9s 58ms/step - loss: 0.0175 - accuracy: 0.9972 - val_loss: 0.3371 - val_accuracy: 0.9527\n",
            "Epoch 25/70\n",
            "159/159 [==============================] - 9s 58ms/step - loss: 0.0307 - accuracy: 0.9968 - val_loss: 0.3182 - val_accuracy: 0.9511\n",
            "Epoch 26/70\n",
            "159/159 [==============================] - 9s 58ms/step - loss: 0.0229 - accuracy: 0.9964 - val_loss: 0.2838 - val_accuracy: 0.9558\n",
            "Epoch 27/70\n",
            "159/159 [==============================] - 9s 58ms/step - loss: 0.0182 - accuracy: 0.9972 - val_loss: 0.3042 - val_accuracy: 0.9606\n",
            "Epoch 28/70\n",
            "159/159 [==============================] - 9s 58ms/step - loss: 0.0597 - accuracy: 0.9921 - val_loss: 0.2983 - val_accuracy: 0.9637\n",
            "Epoch 29/70\n",
            "159/159 [==============================] - 9s 58ms/step - loss: 0.0333 - accuracy: 0.9957 - val_loss: 0.3652 - val_accuracy: 0.9543\n",
            "Epoch 30/70\n",
            "159/159 [==============================] - 9s 58ms/step - loss: 0.0400 - accuracy: 0.9953 - val_loss: 0.5601 - val_accuracy: 0.9369\n",
            "Epoch 31/70\n",
            "159/159 [==============================] - 9s 58ms/step - loss: 0.0239 - accuracy: 0.9957 - val_loss: 0.2920 - val_accuracy: 0.9637\n",
            "Epoch 32/70\n",
            "159/159 [==============================] - 9s 58ms/step - loss: 0.0420 - accuracy: 0.9937 - val_loss: 0.2532 - val_accuracy: 0.9543\n",
            "Epoch 33/70\n",
            "159/159 [==============================] - 9s 59ms/step - loss: 0.0040 - accuracy: 0.9992 - val_loss: 0.4205 - val_accuracy: 0.9495\n",
            "Epoch 34/70\n",
            "159/159 [==============================] - 9s 58ms/step - loss: 0.0177 - accuracy: 0.9968 - val_loss: 0.3837 - val_accuracy: 0.9590\n",
            "Epoch 35/70\n",
            "159/159 [==============================] - 9s 58ms/step - loss: 0.0326 - accuracy: 0.9964 - val_loss: 0.4127 - val_accuracy: 0.9464\n",
            "Epoch 36/70\n",
            "159/159 [==============================] - 9s 58ms/step - loss: 0.0381 - accuracy: 0.9961 - val_loss: 0.3161 - val_accuracy: 0.9511\n",
            "Epoch 37/70\n",
            "159/159 [==============================] - 9s 58ms/step - loss: 0.0277 - accuracy: 0.9961 - val_loss: 0.5204 - val_accuracy: 0.9322\n",
            "Epoch 38/70\n",
            "159/159 [==============================] - 9s 58ms/step - loss: 0.0427 - accuracy: 0.9937 - val_loss: 0.5032 - val_accuracy: 0.9243\n",
            "Epoch 39/70\n",
            "159/159 [==============================] - 9s 58ms/step - loss: 0.0247 - accuracy: 0.9964 - val_loss: 0.3219 - val_accuracy: 0.9558\n",
            "Epoch 40/70\n",
            "159/159 [==============================] - 9s 58ms/step - loss: 0.0126 - accuracy: 0.9980 - val_loss: 1.0452 - val_accuracy: 0.8896\n",
            "Epoch 41/70\n",
            "159/159 [==============================] - 9s 58ms/step - loss: 0.0125 - accuracy: 0.9964 - val_loss: 0.3163 - val_accuracy: 0.9685\n",
            "Epoch 42/70\n",
            "159/159 [==============================] - 9s 58ms/step - loss: 0.0296 - accuracy: 0.9961 - val_loss: 0.3688 - val_accuracy: 0.9527\n",
            "Epoch 43/70\n",
            "159/159 [==============================] - 9s 58ms/step - loss: 0.0145 - accuracy: 0.9949 - val_loss: 0.4255 - val_accuracy: 0.9574\n",
            "Epoch 44/70\n",
            "159/159 [==============================] - 9s 58ms/step - loss: 0.0144 - accuracy: 0.9972 - val_loss: 0.3274 - val_accuracy: 0.9637\n",
            "Epoch 45/70\n",
            "159/159 [==============================] - 9s 58ms/step - loss: 0.0237 - accuracy: 0.9964 - val_loss: 0.6247 - val_accuracy: 0.9164\n",
            "Epoch 46/70\n",
            "159/159 [==============================] - 9s 58ms/step - loss: 0.0053 - accuracy: 0.9984 - val_loss: 0.3386 - val_accuracy: 0.9606\n",
            "Epoch 47/70\n",
            "159/159 [==============================] - 9s 58ms/step - loss: 0.0154 - accuracy: 0.9972 - val_loss: 0.5954 - val_accuracy: 0.9432\n",
            "Epoch 48/70\n",
            "159/159 [==============================] - 9s 58ms/step - loss: 0.0083 - accuracy: 0.9988 - val_loss: 0.3920 - val_accuracy: 0.9669\n",
            "Epoch 49/70\n",
            "159/159 [==============================] - 9s 58ms/step - loss: 0.0086 - accuracy: 0.9992 - val_loss: 0.4879 - val_accuracy: 0.9590\n",
            "Epoch 50/70\n",
            "159/159 [==============================] - 9s 58ms/step - loss: 0.0142 - accuracy: 0.9976 - val_loss: 0.3898 - val_accuracy: 0.9606\n",
            "Epoch 51/70\n",
            "159/159 [==============================] - 9s 58ms/step - loss: 0.0113 - accuracy: 0.9988 - val_loss: 0.4271 - val_accuracy: 0.9574\n",
            "Epoch 52/70\n",
            "159/159 [==============================] - 9s 58ms/step - loss: 0.0151 - accuracy: 0.9976 - val_loss: 0.4731 - val_accuracy: 0.9543\n",
            "Epoch 53/70\n",
            "159/159 [==============================] - 9s 58ms/step - loss: 0.0033 - accuracy: 0.9992 - val_loss: 0.5566 - val_accuracy: 0.9558\n",
            "Epoch 54/70\n",
            "159/159 [==============================] - 9s 58ms/step - loss: 0.0247 - accuracy: 0.9968 - val_loss: 0.3549 - val_accuracy: 0.9637\n",
            "Epoch 55/70\n",
            "159/159 [==============================] - 9s 58ms/step - loss: 0.0218 - accuracy: 0.9972 - val_loss: 0.5518 - val_accuracy: 0.9495\n",
            "Epoch 56/70\n",
            "159/159 [==============================] - 9s 58ms/step - loss: 0.0162 - accuracy: 0.9968 - val_loss: 0.4353 - val_accuracy: 0.9479\n",
            "Epoch 57/70\n",
            "159/159 [==============================] - 9s 58ms/step - loss: 0.0187 - accuracy: 0.9972 - val_loss: 0.4645 - val_accuracy: 0.9479\n",
            "Epoch 58/70\n",
            "159/159 [==============================] - 9s 58ms/step - loss: 0.0042 - accuracy: 0.9992 - val_loss: 0.5315 - val_accuracy: 0.9527\n",
            "Epoch 59/70\n",
            "159/159 [==============================] - 9s 59ms/step - loss: 0.0181 - accuracy: 0.9980 - val_loss: 0.5962 - val_accuracy: 0.9416\n",
            "Epoch 60/70\n",
            "159/159 [==============================] - 9s 59ms/step - loss: 0.0202 - accuracy: 0.9968 - val_loss: 0.4047 - val_accuracy: 0.9558\n",
            "Epoch 61/70\n",
            "159/159 [==============================] - 9s 59ms/step - loss: 0.0087 - accuracy: 0.9996 - val_loss: 0.4755 - val_accuracy: 0.9543\n",
            "Epoch 62/70\n",
            "159/159 [==============================] - 9s 58ms/step - loss: 0.0026 - accuracy: 0.9996 - val_loss: 0.4974 - val_accuracy: 0.9574\n",
            "Epoch 63/70\n",
            "159/159 [==============================] - 9s 58ms/step - loss: 0.0247 - accuracy: 0.9984 - val_loss: 0.4680 - val_accuracy: 0.9543\n",
            "Epoch 64/70\n",
            "159/159 [==============================] - 9s 58ms/step - loss: 0.0204 - accuracy: 0.9964 - val_loss: 0.3547 - val_accuracy: 0.9653\n",
            "Epoch 65/70\n",
            "159/159 [==============================] - 9s 58ms/step - loss: 0.0022 - accuracy: 0.9992 - val_loss: 0.4271 - val_accuracy: 0.9527\n",
            "Epoch 66/70\n",
            "159/159 [==============================] - 9s 58ms/step - loss: 0.0115 - accuracy: 0.9984 - val_loss: 0.3850 - val_accuracy: 0.9637\n",
            "Epoch 67/70\n",
            "159/159 [==============================] - 9s 58ms/step - loss: 0.0075 - accuracy: 0.9992 - val_loss: 0.5656 - val_accuracy: 0.9527\n",
            "Epoch 68/70\n",
            "159/159 [==============================] - 9s 58ms/step - loss: 0.0022 - accuracy: 0.9996 - val_loss: 0.6100 - val_accuracy: 0.9543\n",
            "Epoch 69/70\n",
            "159/159 [==============================] - 9s 58ms/step - loss: 6.4805e-04 - accuracy: 0.9996 - val_loss: 0.6958 - val_accuracy: 0.9527\n",
            "Epoch 70/70\n",
            "159/159 [==============================] - 9s 58ms/step - loss: 0.0125 - accuracy: 0.9984 - val_loss: 0.7458 - val_accuracy: 0.9448\n"
          ]
        }
      ],
      "source": [
        "#training data\n",
        "H = vgg16.fit(trainX, trainY, validation_data=(testX, testY), epochs=70, batch_size=16)"
      ]
    },
    {
      "cell_type": "code",
      "execution_count": 14,
      "metadata": {
        "colab": {
          "base_uri": "https://localhost:8080/"
        },
        "id": "qjoEfHoWsr9H",
        "outputId": "d2864161-5807-4251-f165-b546085c2a7e"
      },
      "outputs": [
        {
          "output_type": "stream",
          "name": "stdout",
          "text": [
            "[INFO] evaluating network...\n"
          ]
        }
      ],
      "source": [
        "print(\"[INFO] evaluating network...\")\n",
        "predictions = vgg16.predict(testX, batch_size=16)\n",
        "pred=predictions.argmax(axis=1)\n",
        "testY_argm=testY.argmax(axis=1)\n"
      ]
    },
    {
      "cell_type": "code",
      "execution_count": 15,
      "metadata": {
        "colab": {
          "base_uri": "https://localhost:8080/"
        },
        "id": "Po9wqNIMts7s",
        "outputId": "f5098205-2ed9-4eff-dab1-7cfa282fff5c"
      },
      "outputs": [
        {
          "output_type": "stream",
          "name": "stdout",
          "text": [
            "              precision    recall  f1-score   support\n",
            "\n",
            "      Normal       0.92      0.97      0.95       312\n",
            "   Pneumonia       0.97      0.92      0.94       322\n",
            "\n",
            "    accuracy                           0.94       634\n",
            "   macro avg       0.95      0.95      0.94       634\n",
            "weighted avg       0.95      0.94      0.94       634\n",
            "\n"
          ]
        }
      ],
      "source": [
        "print(classification_report(testY_argm,pred,target_names=lb.classes_))"
      ]
    },
    {
      "cell_type": "code",
      "execution_count": 16,
      "metadata": {
        "id": "5NSJXylrt1ND",
        "colab": {
          "base_uri": "https://localhost:8080/"
        },
        "outputId": "7e3c8a4a-1cb9-458d-bf99-64d5442a4889"
      },
      "outputs": [
        {
          "output_type": "stream",
          "name": "stdout",
          "text": [
            "20/20 [==============================] - 2s 52ms/step - loss: 0.7458 - accuracy: 0.9448\n",
            "Test Loss 0.7458, accuracy 94.48%\n"
          ]
        }
      ],
      "source": [
        "test_score = vgg16.evaluate(testX, testY) \n",
        "print(\"Test Loss {:.4f}, accuracy {:.2f}%\".format(test_score[0], test_score[1] * 100))"
      ]
    },
    {
      "cell_type": "code",
      "execution_count": 17,
      "metadata": {
        "id": "ZS-FXHa6uI6H"
      },
      "outputs": [],
      "source": [
        "from sklearn.metrics import confusion_matrix\n",
        "import itertools\n",
        "\n",
        "def plot_confusion_matrix(cm, classes, normalize=False, title='Confusion matrix', cmap='Blues'):\n",
        "  if normalize:\n",
        "     cm = cm.astype('float') / cm.sum(axis=1)[:, np.newaxis]\n",
        "     print(\"Normalized confusion matrix\")\n",
        "  else:\n",
        "     print('Confusion matrix, without normalization')\n",
        "  print(cm)\n",
        "  plt.imshow(cm, interpolation='nearest', cmap=cmap)\n",
        "  plt.title(title)\n",
        "  plt.colorbar()\n",
        "  tick_marks = np.arange(len(classes))\n",
        "  plt.xticks(tick_marks, classes, rotation=45)\n",
        "  plt.yticks(tick_marks, classes)\n",
        "  fmt = '.2f' if normalize else 'd'\n",
        "  thresh = cm.max() / 2.\n",
        "  for i, j in itertools.product(range(cm.shape[0]), range(cm.shape[1])):\n",
        "      plt.text(j, i, format(cm[i, j], fmt), horizontalalignment=\"center\", color=\"white\" if cm[i, j] > thresh else \"black\")\n",
        "  plt.ylabel('True label')\n",
        "  plt.xlabel('Predicted label')\n",
        "  plt.tight_layout()"
      ]
    },
    {
      "cell_type": "code",
      "execution_count": 18,
      "metadata": {
        "id": "eiYstz9xuRLx",
        "colab": {
          "base_uri": "https://localhost:8080/",
          "height": 1000
        },
        "outputId": "bfd0992e-288e-4930-ebef-82444881d2c0"
      },
      "outputs": [
        {
          "output_type": "stream",
          "name": "stdout",
          "text": [
            "Normalized confusion matrix\n",
            "[[0.97 0.03]\n",
            " [0.08 0.92]]\n"
          ]
        },
        {
          "output_type": "display_data",
          "data": {
            "text/plain": [
              "<Figure size 432x288 with 2 Axes>"
            ],
            "image/png": "[encoded data removed]"
          },
          "metadata": {
            "needs_background": "light"
          }
        },
        {
          "output_type": "stream",
          "name": "stdout",
          "text": [
            "Confusion matrix, without normalization\n",
            "[[304   8]\n",
            " [ 27 295]]\n"
          ]
        },
        {
          "output_type": "display_data",
          "data": {
            "text/plain": [
              "<Figure size 432x288 with 2 Axes>"
            ],
            "image/png": "[encoded data removed]"
          },
          "metadata": {
            "needs_background": "light"
          }
        },
        {
          "output_type": "display_data",
          "data": {
            "text/plain": [
              "<Figure size 432x288 with 1 Axes>"
            ],
            "image/png": "[encoded data removed]"
          },
          "metadata": {
            "needs_background": "light"
          }
        },
        {
          "output_type": "display_data",
          "data": {
            "text/plain": [
              "<Figure size 432x288 with 1 Axes>"
            ],
            "image/png": "[encoded data removed]"
          },
          "metadata": {
            "needs_background": "light"
          }
        }
      ],
      "source": [
        "cnf_matrix = confusion_matrix(testY_argm, pred)\n",
        "np.set_printoptions(precision=2)\n",
        "\n",
        "# Plot non/normalized confusion matrix\n",
        "plt.figure()\n",
        "plot_confusion_matrix(cnf_matrix,\n",
        "classes=lb.classes_, normalize=True)\n",
        "plt.show()\n",
        "\n",
        "plt.figure()\n",
        "plot_confusion_matrix(cnf_matrix,\n",
        "classes=lb.classes_, normalize=False)\n",
        "plt.show()\n",
        "\n",
        "f, ax = plt.subplots()\n",
        "ax.plot([None] + H.history['accuracy'], 'o-')\n",
        "ax.plot([None] + H.history['val_accuracy'], 'x-')\n",
        "\n",
        "ax.legend(['Train acc', 'Validation acc'], loc = 0)\n",
        "ax.set_title('Training/Validation acc per Epoch')\n",
        "ax.set_xlabel('Epoch')\n",
        "ax.set_ylabel('acc')\n",
        "plt.grid(True)\n",
        "\n",
        "f, ax = plt.subplots()\n",
        "ax.plot([None] + H.history['loss'], 'o-')\n",
        "ax.plot([None] + H.history['val_loss'], 'x-')\n",
        "ax.legend(['Train Loss', 'Validation Loss'], loc = 0)\n",
        "ax.set_title('Training/Validation Loss per Epoch')\n",
        "ax.set_xlabel('Epoch')\n",
        "ax.set_ylabel('loss')\n",
        "plt.grid(True)"
      ]
    }
  ],
  "metadata": {
    "accelerator": "GPU",
    "colab": {
      "collapsed_sections": [],
      "name": "pneumonia_VGG_16_fiX (3).ipynb",
      "provenance": [],
      "include_colab_link": true
    },
    "gpuClass": "standard",
    "kernelspec": {
      "display_name": "Python 3",
      "name": "python3"
    },
    "language_info": {
      "name": "python"
    }
  },
  "nbformat": 4,
  "nbformat_minor": 0
}