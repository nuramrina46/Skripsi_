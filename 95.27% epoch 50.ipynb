{
  "cells": [
    {
      "cell_type": "markdown",
      "metadata": {
        "id": "view-in-github",
        "colab_type": "text"
      },
      "source": [
        "<a href=\"https://colab.research.google.com/github/nuramrina46/Skripsi-VGG-16/blob/main/95.27%25%20epoch%2050.ipynb\" target=\"_parent\"><img src=\"https://colab.research.google.com/assets/colab-badge.svg\" alt=\"Open In Colab\"/></a>"
      ]
    },
    {
      "cell_type": "code",
      "execution_count": 1,
      "metadata": {
        "colab": {
          "base_uri": "https://localhost:8080/"
        },
        "id": "2_RYo7hrXaC5",
        "outputId": "9ea0f601-d237-4979-a3b9-1108e2aa0a27"
      },
      "outputs": [
        {
          "output_type": "stream",
          "name": "stdout",
          "text": [
            "Drive already mounted at /content/drive; to attempt to forcibly remount, call drive.mount(\"/content/drive\", force_remount=True).\n"
          ]
        }
      ],
      "source": [
        "from google.colab import drive\n",
        "drive.mount('/content/drive')"
      ]
    },
    {
      "cell_type": "code",
      "execution_count": 2,
      "metadata": {
        "colab": {
          "base_uri": "https://localhost:8080/"
        },
        "id": "G4aisxOFX3KH",
        "outputId": "3d6a9a36-ce32-442b-8be5-0d2512b6c21d"
      },
      "outputs": [
        {
          "output_type": "stream",
          "name": "stdout",
          "text": [
            "/content/drive/MyDrive/Colab Notebooks\n"
          ]
        }
      ],
      "source": [
        "cd /content/drive/MyDrive/Colab Notebooks"
      ]
    },
    {
      "cell_type": "code",
      "execution_count": 3,
      "metadata": {
        "colab": {
          "base_uri": "https://localhost:8080/"
        },
        "id": "e_oGUrADX8O_",
        "outputId": "901d3b78-b59e-4f3c-807b-cfb45b9d3f8d"
      },
      "outputs": [
        {
          "output_type": "stream",
          "name": "stdout",
          "text": [
            " \u001b[0m\u001b[01;34mPNEUMONIA\u001b[0m/                        pneumonia_vgg_19.ipynb\n",
            " \u001b[01;34mPNEUMONIA32\u001b[0m/                     'Salinan dari pneumonia_VGG_16_fiX (3).ipynb'\n",
            "'pneumonia(clahe).ipynb'           Untitled0.ipynb\n",
            "'pneumonia_VGG_16_fiX (3).ipynb'   Untitled1.ipynb\n",
            "'pneumonia_vgg_19 (2).ipynb'\n"
          ]
        }
      ],
      "source": [
        "ls"
      ]
    },
    {
      "cell_type": "code",
      "execution_count": 4,
      "metadata": {
        "id": "t95OxlI7X_OF"
      },
      "outputs": [],
      "source": [
        "from keras.models import Model\n",
        "from keras.models import load_model\n",
        "from keras.models import Sequential\n",
        "from keras.layers.convolutional import Convolution2D\n",
        "from keras.layers.convolutional import MaxPooling2D\n",
        "from keras.layers.convolutional import ZeroPadding2D\n",
        "from keras.layers.core import Activation\n",
        "from keras.layers.core import Flatten\n",
        "from keras.layers.core import Dense\n",
        "from keras.layers.core import Dropout\n",
        "from keras.layers import BatchNormalization\n",
        "from keras import regularizers\n",
        "from tensorflow.keras.optimizers import RMSprop, Adam, SGD\n",
        "from sklearn.preprocessing import LabelBinarizer\n",
        "from sklearn.model_selection import train_test_split\n",
        "from sklearn.metrics import classification_report\n",
        "from PIL import Image\n",
        "from matplotlib import pyplot as plt\n",
        "from imutils import paths\n",
        "import numpy as np\n",
        "import os"
      ]
    },
    {
      "cell_type": "code",
      "execution_count": 5,
      "metadata": {
        "colab": {
          "base_uri": "https://localhost:8080/"
        },
        "id": "jvn693i-YDZ8",
        "outputId": "1813f642-2d39-4947-d730-d11c1b716757"
      },
      "outputs": [
        {
          "output_type": "stream",
          "name": "stdout",
          "text": [
            "[INFO] loading images...\n"
          ]
        }
      ],
      "source": [
        "print(\"[INFO] loading images...\")\n",
        "imagePaths = paths.list_images(\"PNEUMONIA\")\n",
        "data = []\n",
        "labels = []"
      ]
    },
    {
      "cell_type": "code",
      "execution_count": 6,
      "metadata": {
        "id": "3XLuWAZsYLfK"
      },
      "outputs": [],
      "source": [
        "for imagePaths in imagePaths:\n",
        "    a = Image.open(imagePaths)\n",
        "    image = np.array(a.resize((64,64))) / 255.0\n",
        "    data.append(image)\n",
        "    \n",
        "    label = imagePaths.split(os.path.sep) [-2]\n",
        "    labels.append(label)"
      ]
    },
    {
      "cell_type": "code",
      "execution_count": 7,
      "metadata": {
        "colab": {
          "base_uri": "https://localhost:8080/"
        },
        "id": "WEn6-tEdG4Bs",
        "outputId": "cdb3194b-ffe0-4f53-d85e-8401adb3ef2e"
      },
      "outputs": [
        {
          "output_type": "stream",
          "name": "stdout",
          "text": [
            "(3166, 64, 64, 1)\n"
          ]
        }
      ],
      "source": [
        "temp = np.array(data)\n",
        "temp = np.expand_dims(temp, axis=3)\n",
        "print(temp.shape)"
      ]
    },
    {
      "cell_type": "code",
      "execution_count": 8,
      "metadata": {
        "colab": {
          "base_uri": "https://localhost:8080/"
        },
        "id": "gnjyPDi_Yyrn",
        "outputId": "767e004c-8662-43d6-90e6-028288600987"
      },
      "outputs": [
        {
          "output_type": "stream",
          "name": "stdout",
          "text": [
            "[[0 1]\n",
            " [0 1]\n",
            " [0 1]\n",
            " ...\n",
            " [1 0]\n",
            " [1 0]\n",
            " [1 0]]\n"
          ]
        }
      ],
      "source": [
        "from sklearn.preprocessing import LabelBinarizer\n",
        "import numpy as np\n",
        "\n",
        "class MyLabelBinarizer(LabelBinarizer):\n",
        "    def transform(self, label):\n",
        "      nilaiy = super().transform(label)\n",
        "      if self.y_type_== 'binary':\n",
        "        return np.hstack((nilaiy, 1-nilaiy))\n",
        "      else:\n",
        "        return nilaiy\n",
        "    def inverse_transform(self, nilaiy, threshold=None):\n",
        "      if self.y_type_ == 'binary':\n",
        "          return super().inverse_transform(nilaiy[:, 0], threshold)\n",
        "      else:\n",
        "          return super().inverse_transform(nilaiy, threshold)\n",
        "\n",
        "      \n",
        "\n",
        "lb = MyLabelBinarizer()\n",
        "labels = lb.fit_transform(labels)\n",
        "print(labels)"
      ]
    },
    {
      "cell_type": "code",
      "execution_count": 9,
      "metadata": {
        "colab": {
          "base_uri": "https://localhost:8080/"
        },
        "id": "0V3CnlQtY1g2",
        "outputId": "a0034e50-04fc-4ee2-a786-d8443dbb95ff"
      },
      "outputs": [
        {
          "output_type": "stream",
          "name": "stdout",
          "text": [
            "(2532, 64, 64)\n",
            "(634, 64, 64)\n"
          ]
        }
      ],
      "source": [
        "(trainX, testX, trainY, testY) = train_test_split(np.array(data),np.array(labels), test_size=0.20)\n",
        "print(trainX.shape)\n",
        "print(testX.shape)"
      ]
    },
    {
      "cell_type": "code",
      "execution_count": 10,
      "metadata": {
        "id": "WpeYjXzUZCZP"
      },
      "outputs": [],
      "source": [
        "def vgg16(num_classes):\n",
        "\n",
        "    vgg16 = Sequential()\n",
        "\n",
        "    vgg16.add(Convolution2D(input_shape=(64,64,1),filters=64,kernel_size=(3,3),padding=\"same\"))\n",
        "    vgg16.add(Activation('relu'))\n",
        "    vgg16.add(BatchNormalization())\n",
        "    #layer1 32*32*64\n",
        "    vgg16.add(Convolution2D(filters=64,kernel_size=(3,3),padding=\"same\"))\n",
        "    vgg16.add(Activation('relu'))\n",
        "    vgg16.add(MaxPooling2D(pool_size=(2, 2),strides=(2,2)))\n",
        "    vgg16.add(BatchNormalization())\n",
        "    #layer2 16*16*64\n",
        "    vgg16.add(Convolution2D(filters=128, kernel_size=(3,3), padding=\"same\"))\n",
        "    vgg16.add(Activation('relu'))\n",
        "    vgg16.add(BatchNormalization())\n",
        "    #layer3 16*16*128\n",
        "    vgg16.add(Convolution2D(filters=128, kernel_size=(3,3), padding=\"same\",))\n",
        "    vgg16.add(Activation('relu'))\n",
        "    vgg16.add(MaxPooling2D(pool_size=(2,2),strides=(2,2)))\n",
        "    vgg16.add(BatchNormalization())\n",
        "    #layer4 8*8*128\n",
        "    vgg16.add(Convolution2D(filters=256, kernel_size=(3,3), padding=\"same\"))\n",
        "    vgg16.add(Activation('relu'))\n",
        "    vgg16.add(BatchNormalization())\n",
        "    #layer5 8*8*256\n",
        "    vgg16.add(Convolution2D(filters=256, kernel_size=(3,3), padding=\"same\"))\n",
        "    vgg16.add(Activation('relu'))\n",
        "    vgg16.add(BatchNormalization())\n",
        "    #layer6 8*8*256\n",
        "    vgg16.add(Convolution2D(filters=256, kernel_size=(3,3), padding=\"same\"))\n",
        "    vgg16.add(Activation('relu'))\n",
        "    vgg16.add(MaxPooling2D(pool_size=(2,2),strides=(2,2)))\n",
        "    vgg16.add(BatchNormalization())\n",
        "    #layer7 4*4*256\n",
        "    vgg16.add(Convolution2D(filters=512, kernel_size=(3,3), padding=\"same\"))\n",
        "    vgg16.add(Activation('relu'))\n",
        "    vgg16.add(BatchNormalization())\n",
        "    #layer8 4*4*512\n",
        "    vgg16.add(Convolution2D(filters=512, kernel_size=(3,3), padding=\"same\"))\n",
        "    vgg16.add(Activation('relu'))\n",
        "    vgg16.add(BatchNormalization())\n",
        "    #layer9 4*4*512\n",
        "    vgg16.add(Convolution2D(filters=512, kernel_size=(3,3), padding=\"same\"))\n",
        "    vgg16.add(Activation('relu'))\n",
        "    vgg16.add(MaxPooling2D(pool_size=(2,2),strides=(2,2)))\n",
        "    vgg16.add(BatchNormalization())\n",
        "    #layer10 2*2*512\n",
        "    vgg16.add(Convolution2D(filters=512, kernel_size=(3,3), padding=\"same\"))\n",
        "    vgg16.add(Activation('relu'))\n",
        "    vgg16.add(BatchNormalization())\n",
        "    #layer11 2*2*512\n",
        "    vgg16.add(Convolution2D(filters=512, kernel_size=(3,3), padding=\"same\"))  \n",
        "    vgg16.add(Activation('relu')) \n",
        "    vgg16.add(BatchNormalization())       \n",
        "    #layer12 2*2*512\n",
        "    vgg16.add(Convolution2D(filters=512, kernel_size=(3,3), padding=\"same\"))\n",
        "    vgg16.add(Activation('relu'))\n",
        "    vgg16.add(MaxPooling2D(pool_size=(2,2),strides=(2,2)))\n",
        "    vgg16.add(BatchNormalization())\n",
        "    #layer13 1*1*512\n",
        "    vgg16.add(Flatten())\n",
        "    vgg16.add(Dense(units=4096))\n",
        "    vgg16.add(Activation('relu')) \n",
        "    vgg16.add(BatchNormalization())\n",
        "    vgg16.add(Dropout(0.5))\n",
        "    #layer14 4096\n",
        "    vgg16.add(Dense(units=4096))\n",
        "    vgg16.add(Activation('relu')) \n",
        "    vgg16.add(BatchNormalization())\n",
        "    vgg16.add(Dropout(0.5))\n",
        "    #layer16 4096\n",
        "    vgg16.add(Dense(units=1000))\n",
        "    vgg16.add(Activation('relu'))\n",
        "    vgg16.add(BatchNormalization())\n",
        "    vgg16.add(Dropout(0.5)) \n",
        "    #layer16 1000\n",
        "    vgg16.add(Dense(2, activation=\"softmax\"))\n",
        "\n",
        "    return vgg16"
      ]
    },
    {
      "cell_type": "code",
      "execution_count": 11,
      "metadata": {
        "colab": {
          "base_uri": "https://localhost:8080/"
        },
        "id": "rlT3OhVuZLUs",
        "outputId": "5cdcc2ba-2083-4621-b6b4-a3eb061255a5"
      },
      "outputs": [
        {
          "output_type": "stream",
          "name": "stdout",
          "text": [
            "Model: \"sequential\"\n",
            "_________________________________________________________________\n",
            " Layer (type)                Output Shape              Param #   \n",
            "=================================================================\n",
            " conv2d (Conv2D)             (None, 64, 64, 64)        640       \n",
            "                                                                 \n",
            " activation (Activation)     (None, 64, 64, 64)        0         \n",
            "                                                                 \n",
            " batch_normalization (BatchN  (None, 64, 64, 64)       256       \n",
            " ormalization)                                                   \n",
            "                                                                 \n",
            " conv2d_1 (Conv2D)           (None, 64, 64, 64)        36928     \n",
            "                                                                 \n",
            " activation_1 (Activation)   (None, 64, 64, 64)        0         \n",
            "                                                                 \n",
            " max_pooling2d (MaxPooling2D  (None, 32, 32, 64)       0         \n",
            " )                                                               \n",
            "                                                                 \n",
            " batch_normalization_1 (Batc  (None, 32, 32, 64)       256       \n",
            " hNormalization)                                                 \n",
            "                                                                 \n",
            " conv2d_2 (Conv2D)           (None, 32, 32, 128)       73856     \n",
            "                                                                 \n",
            " activation_2 (Activation)   (None, 32, 32, 128)       0         \n",
            "                                                                 \n",
            " batch_normalization_2 (Batc  (None, 32, 32, 128)      512       \n",
            " hNormalization)                                                 \n",
            "                                                                 \n",
            " conv2d_3 (Conv2D)           (None, 32, 32, 128)       147584    \n",
            "                                                                 \n",
            " activation_3 (Activation)   (None, 32, 32, 128)       0         \n",
            "                                                                 \n",
            " max_pooling2d_1 (MaxPooling  (None, 16, 16, 128)      0         \n",
            " 2D)                                                             \n",
            "                                                                 \n",
            " batch_normalization_3 (Batc  (None, 16, 16, 128)      512       \n",
            " hNormalization)                                                 \n",
            "                                                                 \n",
            " conv2d_4 (Conv2D)           (None, 16, 16, 256)       295168    \n",
            "                                                                 \n",
            " activation_4 (Activation)   (None, 16, 16, 256)       0         \n",
            "                                                                 \n",
            " batch_normalization_4 (Batc  (None, 16, 16, 256)      1024      \n",
            " hNormalization)                                                 \n",
            "                                                                 \n",
            " conv2d_5 (Conv2D)           (None, 16, 16, 256)       590080    \n",
            "                                                                 \n",
            " activation_5 (Activation)   (None, 16, 16, 256)       0         \n",
            "                                                                 \n",
            " batch_normalization_5 (Batc  (None, 16, 16, 256)      1024      \n",
            " hNormalization)                                                 \n",
            "                                                                 \n",
            " conv2d_6 (Conv2D)           (None, 16, 16, 256)       590080    \n",
            "                                                                 \n",
            " activation_6 (Activation)   (None, 16, 16, 256)       0         \n",
            "                                                                 \n",
            " max_pooling2d_2 (MaxPooling  (None, 8, 8, 256)        0         \n",
            " 2D)                                                             \n",
            "                                                                 \n",
            " batch_normalization_6 (Batc  (None, 8, 8, 256)        1024      \n",
            " hNormalization)                                                 \n",
            "                                                                 \n",
            " conv2d_7 (Conv2D)           (None, 8, 8, 512)         1180160   \n",
            "                                                                 \n",
            " activation_7 (Activation)   (None, 8, 8, 512)         0         \n",
            "                                                                 \n",
            " batch_normalization_7 (Batc  (None, 8, 8, 512)        2048      \n",
            " hNormalization)                                                 \n",
            "                                                                 \n",
            " conv2d_8 (Conv2D)           (None, 8, 8, 512)         2359808   \n",
            "                                                                 \n",
            " activation_8 (Activation)   (None, 8, 8, 512)         0         \n",
            "                                                                 \n",
            " batch_normalization_8 (Batc  (None, 8, 8, 512)        2048      \n",
            " hNormalization)                                                 \n",
            "                                                                 \n",
            " conv2d_9 (Conv2D)           (None, 8, 8, 512)         2359808   \n",
            "                                                                 \n",
            " activation_9 (Activation)   (None, 8, 8, 512)         0         \n",
            "                                                                 \n",
            " max_pooling2d_3 (MaxPooling  (None, 4, 4, 512)        0         \n",
            " 2D)                                                             \n",
            "                                                                 \n",
            " batch_normalization_9 (Batc  (None, 4, 4, 512)        2048      \n",
            " hNormalization)                                                 \n",
            "                                                                 \n",
            " conv2d_10 (Conv2D)          (None, 4, 4, 512)         2359808   \n",
            "                                                                 \n",
            " activation_10 (Activation)  (None, 4, 4, 512)         0         \n",
            "                                                                 \n",
            " batch_normalization_10 (Bat  (None, 4, 4, 512)        2048      \n",
            " chNormalization)                                                \n",
            "                                                                 \n",
            " conv2d_11 (Conv2D)          (None, 4, 4, 512)         2359808   \n",
            "                                                                 \n",
            " activation_11 (Activation)  (None, 4, 4, 512)         0         \n",
            "                                                                 \n",
            " batch_normalization_11 (Bat  (None, 4, 4, 512)        2048      \n",
            " chNormalization)                                                \n",
            "                                                                 \n",
            " conv2d_12 (Conv2D)          (None, 4, 4, 512)         2359808   \n",
            "                                                                 \n",
            " activation_12 (Activation)  (None, 4, 4, 512)         0         \n",
            "                                                                 \n",
            " max_pooling2d_4 (MaxPooling  (None, 2, 2, 512)        0         \n",
            " 2D)                                                             \n",
            "                                                                 \n",
            " batch_normalization_12 (Bat  (None, 2, 2, 512)        2048      \n",
            " chNormalization)                                                \n",
            "                                                                 \n",
            " flatten (Flatten)           (None, 2048)              0         \n",
            "                                                                 \n",
            " dense (Dense)               (None, 4096)              8392704   \n",
            "                                                                 \n",
            " activation_13 (Activation)  (None, 4096)              0         \n",
            "                                                                 \n",
            " batch_normalization_13 (Bat  (None, 4096)             16384     \n",
            " chNormalization)                                                \n",
            "                                                                 \n",
            " dropout (Dropout)           (None, 4096)              0         \n",
            "                                                                 \n",
            " dense_1 (Dense)             (None, 4096)              16781312  \n",
            "                                                                 \n",
            " activation_14 (Activation)  (None, 4096)              0         \n",
            "                                                                 \n",
            " batch_normalization_14 (Bat  (None, 4096)             16384     \n",
            " chNormalization)                                                \n",
            "                                                                 \n",
            " dropout_1 (Dropout)         (None, 4096)              0         \n",
            "                                                                 \n",
            " dense_2 (Dense)             (None, 1000)              4097000   \n",
            "                                                                 \n",
            " activation_15 (Activation)  (None, 1000)              0         \n",
            "                                                                 \n",
            " batch_normalization_15 (Bat  (None, 1000)             4000      \n",
            " chNormalization)                                                \n",
            "                                                                 \n",
            " dropout_2 (Dropout)         (None, 1000)              0         \n",
            "                                                                 \n",
            " dense_3 (Dense)             (None, 2)                 2002      \n",
            "                                                                 \n",
            "=================================================================\n",
            "Total params: 44,040,218\n",
            "Trainable params: 44,013,386\n",
            "Non-trainable params: 26,832\n",
            "_________________________________________________________________\n"
          ]
        }
      ],
      "source": [
        "num_classes=2\n",
        "vgg16=vgg16(num_classes)\n",
        "vgg16.summary()"
      ]
    },
    {
      "cell_type": "code",
      "execution_count": 12,
      "metadata": {
        "colab": {
          "base_uri": "https://localhost:8080/"
        },
        "id": "eZ0TePWVZTx4",
        "outputId": "400c6a5d-4f79-45ed-8439-f628bf4935d5"
      },
      "outputs": [
        {
          "output_type": "stream",
          "name": "stdout",
          "text": [
            "Model: \"sequential\"\n",
            "_________________________________________________________________\n",
            " Layer (type)                Output Shape              Param #   \n",
            "=================================================================\n",
            " conv2d (Conv2D)             (None, 64, 64, 64)        640       \n",
            "                                                                 \n",
            " activation (Activation)     (None, 64, 64, 64)        0         \n",
            "                                                                 \n",
            " batch_normalization (BatchN  (None, 64, 64, 64)       256       \n",
            " ormalization)                                                   \n",
            "                                                                 \n",
            " conv2d_1 (Conv2D)           (None, 64, 64, 64)        36928     \n",
            "                                                                 \n",
            " activation_1 (Activation)   (None, 64, 64, 64)        0         \n",
            "                                                                 \n",
            " max_pooling2d (MaxPooling2D  (None, 32, 32, 64)       0         \n",
            " )                                                               \n",
            "                                                                 \n",
            " batch_normalization_1 (Batc  (None, 32, 32, 64)       256       \n",
            " hNormalization)                                                 \n",
            "                                                                 \n",
            " conv2d_2 (Conv2D)           (None, 32, 32, 128)       73856     \n",
            "                                                                 \n",
            " activation_2 (Activation)   (None, 32, 32, 128)       0         \n",
            "                                                                 \n",
            " batch_normalization_2 (Batc  (None, 32, 32, 128)      512       \n",
            " hNormalization)                                                 \n",
            "                                                                 \n",
            " conv2d_3 (Conv2D)           (None, 32, 32, 128)       147584    \n",
            "                                                                 \n",
            " activation_3 (Activation)   (None, 32, 32, 128)       0         \n",
            "                                                                 \n",
            " max_pooling2d_1 (MaxPooling  (None, 16, 16, 128)      0         \n",
            " 2D)                                                             \n",
            "                                                                 \n",
            " batch_normalization_3 (Batc  (None, 16, 16, 128)      512       \n",
            " hNormalization)                                                 \n",
            "                                                                 \n",
            " conv2d_4 (Conv2D)           (None, 16, 16, 256)       295168    \n",
            "                                                                 \n",
            " activation_4 (Activation)   (None, 16, 16, 256)       0         \n",
            "                                                                 \n",
            " batch_normalization_4 (Batc  (None, 16, 16, 256)      1024      \n",
            " hNormalization)                                                 \n",
            "                                                                 \n",
            " conv2d_5 (Conv2D)           (None, 16, 16, 256)       590080    \n",
            "                                                                 \n",
            " activation_5 (Activation)   (None, 16, 16, 256)       0         \n",
            "                                                                 \n",
            " batch_normalization_5 (Batc  (None, 16, 16, 256)      1024      \n",
            " hNormalization)                                                 \n",
            "                                                                 \n",
            " conv2d_6 (Conv2D)           (None, 16, 16, 256)       590080    \n",
            "                                                                 \n",
            " activation_6 (Activation)   (None, 16, 16, 256)       0         \n",
            "                                                                 \n",
            " max_pooling2d_2 (MaxPooling  (None, 8, 8, 256)        0         \n",
            " 2D)                                                             \n",
            "                                                                 \n",
            " batch_normalization_6 (Batc  (None, 8, 8, 256)        1024      \n",
            " hNormalization)                                                 \n",
            "                                                                 \n",
            " conv2d_7 (Conv2D)           (None, 8, 8, 512)         1180160   \n",
            "                                                                 \n",
            " activation_7 (Activation)   (None, 8, 8, 512)         0         \n",
            "                                                                 \n",
            " batch_normalization_7 (Batc  (None, 8, 8, 512)        2048      \n",
            " hNormalization)                                                 \n",
            "                                                                 \n",
            " conv2d_8 (Conv2D)           (None, 8, 8, 512)         2359808   \n",
            "                                                                 \n",
            " activation_8 (Activation)   (None, 8, 8, 512)         0         \n",
            "                                                                 \n",
            " batch_normalization_8 (Batc  (None, 8, 8, 512)        2048      \n",
            " hNormalization)                                                 \n",
            "                                                                 \n",
            " conv2d_9 (Conv2D)           (None, 8, 8, 512)         2359808   \n",
            "                                                                 \n",
            " activation_9 (Activation)   (None, 8, 8, 512)         0         \n",
            "                                                                 \n",
            " max_pooling2d_3 (MaxPooling  (None, 4, 4, 512)        0         \n",
            " 2D)                                                             \n",
            "                                                                 \n",
            " batch_normalization_9 (Batc  (None, 4, 4, 512)        2048      \n",
            " hNormalization)                                                 \n",
            "                                                                 \n",
            " conv2d_10 (Conv2D)          (None, 4, 4, 512)         2359808   \n",
            "                                                                 \n",
            " activation_10 (Activation)  (None, 4, 4, 512)         0         \n",
            "                                                                 \n",
            " batch_normalization_10 (Bat  (None, 4, 4, 512)        2048      \n",
            " chNormalization)                                                \n",
            "                                                                 \n",
            " conv2d_11 (Conv2D)          (None, 4, 4, 512)         2359808   \n",
            "                                                                 \n",
            " activation_11 (Activation)  (None, 4, 4, 512)         0         \n",
            "                                                                 \n",
            " batch_normalization_11 (Bat  (None, 4, 4, 512)        2048      \n",
            " chNormalization)                                                \n",
            "                                                                 \n",
            " conv2d_12 (Conv2D)          (None, 4, 4, 512)         2359808   \n",
            "                                                                 \n",
            " activation_12 (Activation)  (None, 4, 4, 512)         0         \n",
            "                                                                 \n",
            " max_pooling2d_4 (MaxPooling  (None, 2, 2, 512)        0         \n",
            " 2D)                                                             \n",
            "                                                                 \n",
            " batch_normalization_12 (Bat  (None, 2, 2, 512)        2048      \n",
            " chNormalization)                                                \n",
            "                                                                 \n",
            " flatten (Flatten)           (None, 2048)              0         \n",
            "                                                                 \n",
            " dense (Dense)               (None, 4096)              8392704   \n"
          ]
        },
        {
          "output_type": "stream",
          "name": "stderr",
          "text": [
            "/usr/local/lib/python3.7/dist-packages/keras/optimizer_v2/rmsprop.py:130: UserWarning: The `lr` argument is deprecated, use `learning_rate` instead.\n",
            "  super(RMSprop, self).__init__(name, **kwargs)\n"
          ]
        },
        {
          "output_type": "stream",
          "name": "stdout",
          "text": [
            "                                                                 \n",
            " activation_13 (Activation)  (None, 4096)              0         \n",
            "                                                                 \n",
            " batch_normalization_13 (Bat  (None, 4096)             16384     \n",
            " chNormalization)                                                \n",
            "                                                                 \n",
            " dropout (Dropout)           (None, 4096)              0         \n",
            "                                                                 \n",
            " dense_1 (Dense)             (None, 4096)              16781312  \n",
            "                                                                 \n",
            " activation_14 (Activation)  (None, 4096)              0         \n",
            "                                                                 \n",
            " batch_normalization_14 (Bat  (None, 4096)             16384     \n",
            " chNormalization)                                                \n",
            "                                                                 \n",
            " dropout_1 (Dropout)         (None, 4096)              0         \n",
            "                                                                 \n",
            " dense_2 (Dense)             (None, 1000)              4097000   \n",
            "                                                                 \n",
            " activation_15 (Activation)  (None, 1000)              0         \n",
            "                                                                 \n",
            " batch_normalization_15 (Bat  (None, 1000)             4000      \n",
            " chNormalization)                                                \n",
            "                                                                 \n",
            " dropout_2 (Dropout)         (None, 1000)              0         \n",
            "                                                                 \n",
            " dense_3 (Dense)             (None, 2)                 2002      \n",
            "                                                                 \n",
            "=================================================================\n",
            "Total params: 44,040,218\n",
            "Trainable params: 44,013,386\n",
            "Non-trainable params: 26,832\n",
            "_________________________________________________________________\n"
          ]
        }
      ],
      "source": [
        "#setting hyperparameter, menggunakan Adam\n",
        "opt = RMSprop(lr=0.0001)\n",
        "vgg16.compile(loss='categorical_crossentropy', optimizer=opt, metrics=['accuracy'])\n",
        "vgg16.summary()"
      ]
    },
    {
      "cell_type": "code",
      "execution_count": 13,
      "metadata": {
        "colab": {
          "base_uri": "https://localhost:8080/"
        },
        "id": "JOp0TzHxZYLf",
        "outputId": "0510b0b3-d07d-4147-d65d-ccf07a1de17c"
      },
      "outputs": [
        {
          "output_type": "stream",
          "name": "stdout",
          "text": [
            "Epoch 1/50\n",
            "159/159 [==============================] - 18s 73ms/step - loss: 0.6238 - accuracy: 0.8156 - val_loss: 5.1798 - val_accuracy: 0.4763\n",
            "Epoch 2/50\n",
            "159/159 [==============================] - 9s 58ms/step - loss: 0.5222 - accuracy: 0.8566 - val_loss: 14.8590 - val_accuracy: 0.4763\n",
            "Epoch 3/50\n",
            "159/159 [==============================] - 9s 58ms/step - loss: 0.4951 - accuracy: 0.8582 - val_loss: 2.8315 - val_accuracy: 0.5647\n",
            "Epoch 4/50\n",
            "159/159 [==============================] - 9s 59ms/step - loss: 0.4220 - accuracy: 0.8784 - val_loss: 1.6424 - val_accuracy: 0.6719\n",
            "Epoch 5/50\n",
            "159/159 [==============================] - 9s 58ms/step - loss: 0.3270 - accuracy: 0.9017 - val_loss: 0.6291 - val_accuracy: 0.8218\n",
            "Epoch 6/50\n",
            "159/159 [==============================] - 9s 58ms/step - loss: 0.3022 - accuracy: 0.9072 - val_loss: 0.4716 - val_accuracy: 0.9385\n",
            "Epoch 7/50\n",
            "159/159 [==============================] - 9s 58ms/step - loss: 0.2677 - accuracy: 0.9107 - val_loss: 0.2573 - val_accuracy: 0.9322\n",
            "Epoch 8/50\n",
            "159/159 [==============================] - 9s 58ms/step - loss: 0.2254 - accuracy: 0.9289 - val_loss: 0.2337 - val_accuracy: 0.9290\n",
            "Epoch 9/50\n",
            "159/159 [==============================] - 9s 58ms/step - loss: 0.2030 - accuracy: 0.9376 - val_loss: 0.5807 - val_accuracy: 0.8391\n",
            "Epoch 10/50\n",
            "159/159 [==============================] - 9s 58ms/step - loss: 0.1559 - accuracy: 0.9471 - val_loss: 0.2790 - val_accuracy: 0.9196\n",
            "Epoch 11/50\n",
            "159/159 [==============================] - 9s 58ms/step - loss: 0.1595 - accuracy: 0.9546 - val_loss: 0.1866 - val_accuracy: 0.9401\n",
            "Epoch 12/50\n",
            "159/159 [==============================] - 9s 58ms/step - loss: 0.1239 - accuracy: 0.9637 - val_loss: 0.2691 - val_accuracy: 0.9385\n",
            "Epoch 13/50\n",
            "159/159 [==============================] - 9s 58ms/step - loss: 0.1176 - accuracy: 0.9712 - val_loss: 0.2426 - val_accuracy: 0.9322\n",
            "Epoch 14/50\n",
            "159/159 [==============================] - 9s 59ms/step - loss: 0.0751 - accuracy: 0.9767 - val_loss: 0.2100 - val_accuracy: 0.9543\n",
            "Epoch 15/50\n",
            "159/159 [==============================] - 9s 58ms/step - loss: 0.0808 - accuracy: 0.9787 - val_loss: 0.2854 - val_accuracy: 0.9448\n",
            "Epoch 16/50\n",
            "159/159 [==============================] - 9s 58ms/step - loss: 0.0730 - accuracy: 0.9806 - val_loss: 0.2829 - val_accuracy: 0.9432\n",
            "Epoch 17/50\n",
            "159/159 [==============================] - 9s 58ms/step - loss: 0.0481 - accuracy: 0.9885 - val_loss: 0.3639 - val_accuracy: 0.9416\n",
            "Epoch 18/50\n",
            "159/159 [==============================] - 9s 59ms/step - loss: 0.0505 - accuracy: 0.9905 - val_loss: 0.1829 - val_accuracy: 0.9401\n",
            "Epoch 19/50\n",
            "159/159 [==============================] - 9s 58ms/step - loss: 0.0415 - accuracy: 0.9897 - val_loss: 0.3985 - val_accuracy: 0.9290\n",
            "Epoch 20/50\n",
            "159/159 [==============================] - 9s 58ms/step - loss: 0.0283 - accuracy: 0.9929 - val_loss: 0.3707 - val_accuracy: 0.9274\n",
            "Epoch 21/50\n",
            "159/159 [==============================] - 9s 59ms/step - loss: 0.0293 - accuracy: 0.9933 - val_loss: 0.5028 - val_accuracy: 0.9338\n",
            "Epoch 22/50\n",
            "159/159 [==============================] - 9s 58ms/step - loss: 0.0523 - accuracy: 0.9909 - val_loss: 0.3274 - val_accuracy: 0.9259\n",
            "Epoch 23/50\n",
            "159/159 [==============================] - 9s 58ms/step - loss: 0.0606 - accuracy: 0.9893 - val_loss: 0.2663 - val_accuracy: 0.9448\n",
            "Epoch 24/50\n",
            "159/159 [==============================] - 9s 58ms/step - loss: 0.0260 - accuracy: 0.9949 - val_loss: 0.4754 - val_accuracy: 0.9479\n",
            "Epoch 25/50\n",
            "159/159 [==============================] - 9s 58ms/step - loss: 0.0338 - accuracy: 0.9929 - val_loss: 0.7489 - val_accuracy: 0.8991\n",
            "Epoch 26/50\n",
            "159/159 [==============================] - 9s 58ms/step - loss: 0.0319 - accuracy: 0.9949 - val_loss: 0.2439 - val_accuracy: 0.9511\n",
            "Epoch 27/50\n",
            "159/159 [==============================] - 9s 58ms/step - loss: 0.0210 - accuracy: 0.9957 - val_loss: 0.3510 - val_accuracy: 0.9606\n",
            "Epoch 28/50\n",
            "159/159 [==============================] - 9s 58ms/step - loss: 0.0331 - accuracy: 0.9937 - val_loss: 0.2709 - val_accuracy: 0.9511\n",
            "Epoch 29/50\n",
            "159/159 [==============================] - 9s 59ms/step - loss: 0.0244 - accuracy: 0.9964 - val_loss: 0.3087 - val_accuracy: 0.9574\n",
            "Epoch 30/50\n",
            "159/159 [==============================] - 9s 58ms/step - loss: 0.0179 - accuracy: 0.9972 - val_loss: 0.6635 - val_accuracy: 0.9259\n",
            "Epoch 31/50\n",
            "159/159 [==============================] - 9s 60ms/step - loss: 0.0161 - accuracy: 0.9980 - val_loss: 0.5568 - val_accuracy: 0.9495\n",
            "Epoch 32/50\n",
            "159/159 [==============================] - 9s 58ms/step - loss: 0.0322 - accuracy: 0.9961 - val_loss: 0.4035 - val_accuracy: 0.9495\n",
            "Epoch 33/50\n",
            "159/159 [==============================] - 9s 58ms/step - loss: 0.0283 - accuracy: 0.9972 - val_loss: 0.4998 - val_accuracy: 0.9432\n",
            "Epoch 34/50\n",
            "159/159 [==============================] - 9s 59ms/step - loss: 0.0281 - accuracy: 0.9945 - val_loss: 0.5378 - val_accuracy: 0.9464\n",
            "Epoch 35/50\n",
            "159/159 [==============================] - 9s 59ms/step - loss: 0.0125 - accuracy: 0.9976 - val_loss: 0.4022 - val_accuracy: 0.9527\n",
            "Epoch 36/50\n",
            "159/159 [==============================] - 9s 58ms/step - loss: 0.0169 - accuracy: 0.9976 - val_loss: 0.4907 - val_accuracy: 0.9511\n",
            "Epoch 37/50\n",
            "159/159 [==============================] - 9s 58ms/step - loss: 0.0249 - accuracy: 0.9964 - val_loss: 0.4403 - val_accuracy: 0.9479\n",
            "Epoch 38/50\n",
            "159/159 [==============================] - 9s 58ms/step - loss: 0.0172 - accuracy: 0.9964 - val_loss: 0.4013 - val_accuracy: 0.9448\n",
            "Epoch 39/50\n",
            "159/159 [==============================] - 9s 58ms/step - loss: 0.0130 - accuracy: 0.9976 - val_loss: 0.4523 - val_accuracy: 0.9543\n",
            "Epoch 40/50\n",
            "159/159 [==============================] - 9s 59ms/step - loss: 0.0139 - accuracy: 0.9976 - val_loss: 0.5601 - val_accuracy: 0.9543\n",
            "Epoch 41/50\n",
            "159/159 [==============================] - 9s 58ms/step - loss: 0.0180 - accuracy: 0.9964 - val_loss: 0.5451 - val_accuracy: 0.9416\n",
            "Epoch 42/50\n",
            "159/159 [==============================] - 9s 58ms/step - loss: 0.0070 - accuracy: 0.9980 - val_loss: 0.7676 - val_accuracy: 0.9322\n",
            "Epoch 43/50\n",
            "159/159 [==============================] - 9s 58ms/step - loss: 0.0100 - accuracy: 0.9984 - val_loss: 0.6655 - val_accuracy: 0.9543\n",
            "Epoch 44/50\n",
            "159/159 [==============================] - 9s 58ms/step - loss: 0.0128 - accuracy: 0.9984 - val_loss: 0.8310 - val_accuracy: 0.9353\n",
            "Epoch 45/50\n",
            "159/159 [==============================] - 9s 58ms/step - loss: 0.0463 - accuracy: 0.9961 - val_loss: 0.6374 - val_accuracy: 0.9511\n",
            "Epoch 46/50\n",
            "159/159 [==============================] - 9s 58ms/step - loss: 0.0044 - accuracy: 0.9988 - val_loss: 0.6944 - val_accuracy: 0.9432\n",
            "Epoch 47/50\n",
            "159/159 [==============================] - 9s 59ms/step - loss: 0.0236 - accuracy: 0.9972 - val_loss: 0.6281 - val_accuracy: 0.9369\n",
            "Epoch 48/50\n",
            "159/159 [==============================] - 9s 59ms/step - loss: 0.0213 - accuracy: 0.9980 - val_loss: 0.5112 - val_accuracy: 0.9401\n",
            "Epoch 49/50\n",
            "159/159 [==============================] - 9s 59ms/step - loss: 6.2788e-04 - accuracy: 0.9996 - val_loss: 0.8102 - val_accuracy: 0.9448\n",
            "Epoch 50/50\n",
            "159/159 [==============================] - 9s 58ms/step - loss: 0.0083 - accuracy: 0.9992 - val_loss: 0.6682 - val_accuracy: 0.9527\n"
          ]
        }
      ],
      "source": [
        "#training data\n",
        "H = vgg16.fit(trainX, trainY, validation_data=(testX, testY), epochs=50, batch_size=16)"
      ]
    },
    {
      "cell_type": "code",
      "execution_count": 14,
      "metadata": {
        "colab": {
          "base_uri": "https://localhost:8080/"
        },
        "id": "qjoEfHoWsr9H",
        "outputId": "4ceee07a-5c66-4462-db64-d63b649c7f06"
      },
      "outputs": [
        {
          "output_type": "stream",
          "name": "stdout",
          "text": [
            "[INFO] evaluating network...\n"
          ]
        }
      ],
      "source": [
        "print(\"[INFO] evaluating network...\")\n",
        "predictions = vgg16.predict(testX, batch_size=16)\n",
        "pred=predictions.argmax(axis=1)\n",
        "testY_argm=testY.argmax(axis=1)\n"
      ]
    },
    {
      "cell_type": "code",
      "execution_count": 15,
      "metadata": {
        "colab": {
          "base_uri": "https://localhost:8080/"
        },
        "id": "Po9wqNIMts7s",
        "outputId": "5d5dd810-e460-4d50-bc76-3ce3cc779749"
      },
      "outputs": [
        {
          "output_type": "stream",
          "name": "stdout",
          "text": [
            "              precision    recall  f1-score   support\n",
            "\n",
            "      Normal       0.95      0.95      0.95       302\n",
            "   Pneumonia       0.95      0.95      0.95       332\n",
            "\n",
            "    accuracy                           0.95       634\n",
            "   macro avg       0.95      0.95      0.95       634\n",
            "weighted avg       0.95      0.95      0.95       634\n",
            "\n"
          ]
        }
      ],
      "source": [
        "print(classification_report(testY_argm,pred,target_names=lb.classes_))"
      ]
    },
    {
      "cell_type": "code",
      "execution_count": 16,
      "metadata": {
        "id": "5NSJXylrt1ND",
        "colab": {
          "base_uri": "https://localhost:8080/"
        },
        "outputId": "2de4678a-5041-43ca-ad33-3e8af773d018"
      },
      "outputs": [
        {
          "output_type": "stream",
          "name": "stdout",
          "text": [
            "20/20 [==============================] - 2s 53ms/step - loss: 0.6682 - accuracy: 0.9527\n",
            "Test Loss 0.6682, accuracy 95.27%\n"
          ]
        }
      ],
      "source": [
        "test_score = vgg16.evaluate(testX, testY) \n",
        "print(\"Test Loss {:.4f}, accuracy {:.2f}%\".format(test_score[0], test_score[1] * 100))"
      ]
    },
    {
      "cell_type": "code",
      "execution_count": 17,
      "metadata": {
        "id": "ZS-FXHa6uI6H"
      },
      "outputs": [],
      "source": [
        "from sklearn.metrics import confusion_matrix\n",
        "import itertools\n",
        "\n",
        "def plot_confusion_matrix(cm, classes, normalize=False, title='Confusion matrix', cmap='Blues'):\n",
        "  if normalize:\n",
        "     cm = cm.astype('float') / cm.sum(axis=1)[:, np.newaxis]\n",
        "     print(\"Normalized confusion matrix\")\n",
        "  else:\n",
        "     print('Confusion matrix, without normalization')\n",
        "  print(cm)\n",
        "  plt.imshow(cm, interpolation='nearest', cmap=cmap)\n",
        "  plt.title(title)\n",
        "  plt.colorbar()\n",
        "  tick_marks = np.arange(len(classes))\n",
        "  plt.xticks(tick_marks, classes, rotation=45)\n",
        "  plt.yticks(tick_marks, classes)\n",
        "  fmt = '.2f' if normalize else 'd'\n",
        "  thresh = cm.max() / 2.\n",
        "  for i, j in itertools.product(range(cm.shape[0]), range(cm.shape[1])):\n",
        "      plt.text(j, i, format(cm[i, j], fmt), horizontalalignment=\"center\", color=\"white\" if cm[i, j] > thresh else \"black\")\n",
        "  plt.ylabel('True label')\n",
        "  plt.xlabel('Predicted label')\n",
        "  plt.tight_layout()"
      ]
    },
    {
      "cell_type": "code",
      "execution_count": 18,
      "metadata": {
        "id": "eiYstz9xuRLx",
        "colab": {
          "base_uri": "https://localhost:8080/",
          "height": 1000
        },
        "outputId": "3702ee12-0801-4998-9f30-428c7adaca33"
      },
      "outputs": [
        {
          "output_type": "stream",
          "name": "stdout",
          "text": [
            "Normalized confusion matrix\n",
            "[[0.95 0.05]\n",
            " [0.05 0.95]]\n"
          ]
        },
        {
          "output_type": "display_data",
          "data": {
            "text/plain": [
              "<Figure size 432x288 with 2 Axes>"
            ],
            "image/png": "[encoded data removed]"
          },
          "metadata": {
            "needs_background": "light"
          }
        },
        {
          "output_type": "stream",
          "name": "stdout",
          "text": [
            "Confusion matrix, without normalization\n",
            "[[287  15]\n",
            " [ 15 317]]\n"
          ]
        },
        {
          "output_type": "display_data",
          "data": {
            "text/plain": [
              "<Figure size 432x288 with 2 Axes>"
            ],
            "image/png": "[encoded data removed]"
          },
          "metadata": {
            "needs_background": "light"
          }
        },
        {
          "output_type": "display_data",
          "data": {
            "text/plain": [
              "<Figure size 432x288 with 1 Axes>"
            ],
            "image/png": "[encoded data removed]"
          },
          "metadata": {
            "needs_background": "light"
          }
        },
        {
          "output_type": "display_data",
          "data": {
            "text/plain": [
              "<Figure size 432x288 with 1 Axes>"
            ],
            "image/png": "[encoded data removed]"
          },
          "metadata": {
            "needs_background": "light"
          }
        }
      ],
      "source": [
        "cnf_matrix = confusion_matrix(testY_argm, pred)\n",
        "np.set_printoptions(precision=2)\n",
        "\n",
        "# Plot non/normalized confusion matrix\n",
        "plt.figure()\n",
        "plot_confusion_matrix(cnf_matrix,\n",
        "classes=lb.classes_, normalize=True)\n",
        "plt.show()\n",
        "\n",
        "plt.figure()\n",
        "plot_confusion_matrix(cnf_matrix,\n",
        "classes=lb.classes_, normalize=False)\n",
        "plt.show()\n",
        "\n",
        "f, ax = plt.subplots()\n",
        "ax.plot([None] + H.history['accuracy'], 'o-')\n",
        "ax.plot([None] + H.history['val_accuracy'], 'x-')\n",
        "\n",
        "ax.legend(['Train acc', 'Validation acc'], loc = 0)\n",
        "ax.set_title('Training/Validation acc per Epoch')\n",
        "ax.set_xlabel('Epoch')\n",
        "ax.set_ylabel('acc')\n",
        "plt.grid(True)\n",
        "\n",
        "f, ax = plt.subplots()\n",
        "ax.plot([None] + H.history['loss'], 'o-')\n",
        "ax.plot([None] + H.history['val_loss'], 'x-')\n",
        "ax.legend(['Train Loss', 'Validation Loss'], loc = 0)\n",
        "ax.set_title('Training/Validation Loss per Epoch')\n",
        "ax.set_xlabel('Epoch')\n",
        "ax.set_ylabel('loss')\n",
        "plt.grid(True)"
      ]
    }
  ],
  "metadata": {
    "accelerator": "GPU",
    "colab": {
      "collapsed_sections": [],
      "name": "pneumonia_VGG_16_fiX (3).ipynb",
      "provenance": [],
      "include_colab_link": true
    },
    "gpuClass": "standard",
    "kernelspec": {
      "display_name": "Python 3",
      "name": "python3"
    },
    "language_info": {
      "name": "python"
    }
  },
  "nbformat": 4,
  "nbformat_minor": 0
}